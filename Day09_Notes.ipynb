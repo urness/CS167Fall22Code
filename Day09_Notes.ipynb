{
  "nbformat": 4,
  "nbformat_minor": 0,
  "metadata": {
    "colab": {
      "provenance": [],
      "collapsed_sections": [],
      "include_colab_link": true
    },
    "kernelspec": {
      "name": "python3",
      "display_name": "Python 3"
    }
  },
  "cells": [
    {
      "cell_type": "markdown",
      "metadata": {
        "id": "view-in-github",
        "colab_type": "text"
      },
      "source": [
        "<a href=\"https://colab.research.google.com/github/urness/CS167Fall22Code/blob/main/Day09_Notes.ipynb\" target=\"_parent\"><img src=\"https://colab.research.google.com/assets/colab-badge.svg\" alt=\"Open In Colab\"/></a>"
      ]
    },
    {
      "cell_type": "markdown",
      "source": [
        "# CS 167 Fall 22\n",
        "## September 27th notes"
      ],
      "metadata": {
        "id": "AsZE2RjzGTHA"
      }
    },
    {
      "cell_type": "code",
      "source": [
        "# demonstration of r2_score\n",
        "import pandas as pd\n",
        "actual_vals = pd.Series([.45, .76, .23, .98, .55])\n",
        "predicted_vals = pd.Series([.55, .77, .28, .96, .57])\n",
        "\n",
        "import sklearn.metrics\n",
        "r2_val = sklearn.metrics.r2_score(actual_vals, predicted_vals)\n",
        "print(\"r^2 value: \", r2_val)"
      ],
      "metadata": {
        "id": "kK5xHVA3GSvZ"
      },
      "execution_count": null,
      "outputs": []
    },
    {
      "cell_type": "markdown",
      "source": [
        "# Decision Trees"
      ],
      "metadata": {
        "id": "g9Cf0ycdD7Yd"
      }
    },
    {
      "cell_type": "code",
      "metadata": {
        "id": "7_J2QdGp9rm2"
      },
      "source": [
        "import math\n",
        "# here's the syntax for a log(Base 2)\n",
        "for i in [.5,1,2,4,8,16,32,64]:\n",
        "    print(\"log base 2 of\", i, \"is\", math.log2(i))"
      ],
      "execution_count": null,
      "outputs": []
    },
    {
      "cell_type": "code",
      "metadata": {
        "id": "LAvPmD2K9wMQ"
      },
      "source": [
        "import math\n",
        "def entropy(percentage_list):\n",
        "    #input: percentage_list consists of float values that sum to 1.0 \n",
        "    #return: calculation of entropy for input percentages\n",
        "    result = 0\n",
        "    for percentage in percentage_list:\n",
        "        if percentage != 0:\n",
        "            result += -percentage*math.log2(percentage)\n",
        "    return result\n"
      ],
      "execution_count": 2,
      "outputs": []
    },
    {
      "cell_type": "code",
      "source": [
        "#example of a calculation of entropy\n",
        "entropy([2/6,4/6])"
      ],
      "metadata": {
        "id": "mwSb8bObOylF"
      },
      "execution_count": null,
      "outputs": []
    },
    {
      "cell_type": "code",
      "source": [
        "entropy([1/4, 1/4, 2/4])"
      ],
      "metadata": {
        "id": "31A8zWwBOo3v"
      },
      "execution_count": null,
      "outputs": []
    },
    {
      "cell_type": "code",
      "metadata": {
        "id": "pTTvVts3AGnZ"
      },
      "source": [
        "import pandas\n",
        "import numpy\n",
        "from google.colab import drive\n",
        "drive.mount('/content/drive')"
      ],
      "execution_count": null,
      "outputs": []
    },
    {
      "cell_type": "code",
      "metadata": {
        "id": "wCeh0ixNARBz"
      },
      "source": [
        "restaurant = pandas.read_csv('/content/drive/MyDrive/CS167Fall22/Datasets/restaurant.csv')\n",
        "restaurant"
      ],
      "execution_count": null,
      "outputs": []
    },
    {
      "cell_type": "code",
      "source": [
        "#Patrons expected entropy\n",
        "restaurant[['pat', 'target']].sort_values(['pat','target'])\n"
      ],
      "metadata": {
        "id": "pMAfr4b_qcE0"
      },
      "execution_count": null,
      "outputs": []
    },
    {
      "cell_type": "code",
      "source": [
        "#calculate entropy\n",
        "entropy_patrons_full = entropy([4/6,2/6]) # 4/6 was No; 2/6 was Yes\n",
        "entropy_patrons_none = entropy([2/2,0/2])\n",
        "entropy_patrons_some = entropy([0/4,4/4])\n",
        "\n",
        "# calculate expected_entropy (weighted average)\n",
        "expected_entropy_patrons = 6/12*entropy_patrons_full + 2/12*entropy_patrons_none + 4/12*entropy_patrons_some\n",
        "expected_entropy_patrons"
      ],
      "metadata": {
        "id": "fvTcryisq6fT"
      },
      "execution_count": null,
      "outputs": []
    },
    {
      "cell_type": "code",
      "source": [
        "#calculate information gain (prior entropy - expected entropy)\n",
        "information_gain_patrons = 1.0 - expected_entropy_patrons\n",
        "information_gain_patrons"
      ],
      "metadata": {
        "id": "yRXGlpa-sPKt"
      },
      "execution_count": null,
      "outputs": []
    },
    {
      "cell_type": "code",
      "metadata": {
        "id": "W1vXJ1W2AqyL"
      },
      "source": [
        "restaurant[['hun', 'target']].sort_values(['hun','target'])"
      ],
      "execution_count": null,
      "outputs": []
    }
  ]
}