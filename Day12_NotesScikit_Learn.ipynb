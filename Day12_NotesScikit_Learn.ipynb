{
  "nbformat": 4,
  "nbformat_minor": 0,
  "metadata": {
    "colab": {
      "provenance": [],
      "collapsed_sections": [],
      "include_colab_link": true
    },
    "kernelspec": {
      "name": "python3",
      "display_name": "Python 3"
    }
  },
  "cells": [
    {
      "cell_type": "markdown",
      "metadata": {
        "id": "view-in-github",
        "colab_type": "text"
      },
      "source": [
        "<a href=\"https://colab.research.google.com/github/urness/CS167Fall22Code/blob/main/Day12_NotesScikit_Learn.ipynb\" target=\"_parent\"><img src=\"https://colab.research.google.com/assets/colab-badge.svg\" alt=\"Open In Colab\"/></a>"
      ]
    },
    {
      "cell_type": "markdown",
      "metadata": {
        "id": "nRKRqwYLXu5o"
      },
      "source": [
        "# Day 12 Notes: Introduction to [Scikit-Learn](https://scikit-learn.org/stable/modules/classes.html)\n",
        "\n",
        "The overall algorithm for scikit-learn (sklearn) is:\n",
        "0. Load Libraries\n",
        "1. Load data\n",
        "2. Split Data: use `train_test_split()`\n",
        "3. Create a classifier/regressor object\n",
        "4. Call `fit()` (to train the model)\n",
        "5. Call `predict()` to get the predictions\n",
        "6. Call a metric function to measure performance\n",
        "\n",
        "In the cell below, we do steps 0-2:"
      ]
    },
    {
      "cell_type": "code",
      "metadata": {
        "id": "jACG87F_YtNM"
      },
      "source": [
        "# Mount your drive\n",
        "from google.colab import drive\n",
        "drive.mount('/content/drive')\n",
        "\n"
      ],
      "execution_count": null,
      "outputs": []
    },
    {
      "cell_type": "code",
      "source": [
        "#classic scikit-learn algorithm\n",
        "\n",
        "#0. import libraries\n",
        "import sklearn\n",
        "import pandas\n",
        "from sklearn import tree\n",
        "from sklearn.model_selection import train_test_split\n",
        "from sklearn import metrics\n",
        "from sklearn import neighbors\n",
        "\n",
        "#1. load data\n",
        "iris_data = pandas.read_csv('/content/drive/MyDrive/CS167Fall22/Datasets/irisData.csv')\n",
        "\n",
        "#2. split data\n",
        "predictors = ['sepal length', 'sepal width','petal length', 'petal width']\n",
        "target = \"species\"\n",
        "train_data, test_data, train_sln, test_sln = \\\n",
        "        train_test_split(iris_data[predictors], iris_data[target], test_size = 0.2, random_state=41)"
      ],
      "metadata": {
        "id": "gkgZzOaCExuz"
      },
      "execution_count": null,
      "outputs": []
    },
    {
      "cell_type": "code",
      "metadata": {
        "id": "tuElLYzaIjAS",
        "colab": {
          "base_uri": "https://localhost:8080/"
        },
        "outputId": "5801dfab-c2b0-4867-fa9b-5fe23dd54fc9"
      },
      "source": [
        "#3. Create classifier/regressor object (change these parameters for Exercise #1)\n",
        "dt = tree.DecisionTreeClassifier(random_state = 0)\n",
        "\n",
        "#4. Call fit (to train the classification/regression model)\n",
        "dt.fit(train_data,train_sln)\n",
        "\n",
        "#5. Call predict to generate predictions\n",
        "iris_predictions = dt.predict(test_data)\n",
        "\n",
        "#6. Call a metric function to measure performance\n",
        "print(\"Accuracy:\", metrics.accuracy_score(test_sln,iris_predictions))\n",
        "\n",
        "print(\"-------------------------------------------------------\")\n",
        "#print out a confusion matrix\n",
        "iris_labels= [\"Iris-setosa\", \"Iris-versicolor\",\"Iris-virginica\"]\n",
        "conf_mat = metrics.confusion_matrix(test_sln, iris_predictions, labels=iris_labels)\n",
        "print(pandas.DataFrame(conf_mat,index = iris_labels, columns = iris_labels))"
      ],
      "execution_count": null,
      "outputs": [
        {
          "output_type": "stream",
          "name": "stdout",
          "text": [
            "Accuracy: 0.9\n",
            "-------------------------------------------------------\n",
            "                 Iris-setosa  Iris-versicolor  Iris-virginica\n",
            "Iris-setosa                9                0               0\n",
            "Iris-versicolor            0               10               1\n",
            "Iris-virginica             0                2               8\n"
          ]
        }
      ]
    },
    {
      "cell_type": "markdown",
      "metadata": {
        "id": "XHhcBGYLClDD"
      },
      "source": [
        "## Exercise #1A\n",
        "Check out the scikit-learn documentation [here](https://scikit-learn.org/stable/modules/generated/sklearn.neighbors.KNeighborsClassifier.html?highlight=neighbors#sklearn.neighbors.KNeighborsClassifier):\n",
        "\n",
        "Find the documentation for the kNN classifier (i.e., the classifier, not an unsupervised algorithm). Answer the following questions:\n",
        "- What is the default value of k it uses?\n",
        "- Does it do weighted or unweighted kNN by default?\n",
        "\n"
      ]
    },
    {
      "cell_type": "markdown",
      "source": [
        "[docs for knn](https://scikit-learn.org/stable/modules/generated/sklearn.neighbors.KNeighborsClassifier.html#sklearn.neighbors.KNeighborsClassifier)"
      ],
      "metadata": {
        "id": "D6ZTepnRMZuM"
      }
    },
    {
      "cell_type": "markdown",
      "source": [
        "## Exercise #1B\n",
        "Implement SciKit Learn’s KNN function\n",
        "- Run with k=100 (what is the parameter that SciKit Learn uses for k?) What is the accuracy?\n",
        "- Run with k=100 weighted vs. non-weighted. What is the accuracy?\n",
        "- Run with k=5. What is the accuracy?\n"
      ],
      "metadata": {
        "id": "DrWN6pQsCQRK"
      }
    },
    {
      "cell_type": "code",
      "source": [
        "# here's a hint:\n",
        "from sklearn.neighbors import KNeighborsClassifier\n",
        "\n",
        "neigh = KNeighborsClassifier() # may need to pass in some parameters here..\n",
        "neigh.fit(train_data,train_sln)\n"
      ],
      "metadata": {
        "id": "gFkvbtlFCdlv"
      },
      "execution_count": null,
      "outputs": []
    },
    {
      "cell_type": "markdown",
      "metadata": {
        "id": "X5-9noncBmSS"
      },
      "source": [
        "## Let's try regression now:\n"
      ]
    },
    {
      "cell_type": "code",
      "metadata": {
        "id": "U1_1ZDyuaRLX",
        "colab": {
          "base_uri": "https://localhost:8080/",
          "height": 423
        },
        "outputId": "90d6b925-d84a-4ac7-f08d-9b501a41fe34"
      },
      "source": [
        "import pandas\n",
        "import numpy\n",
        "\n",
        "# load WineQuality.csv data \n",
        "wine_data = pandas.read_csv('/content/drive/MyDrive/CS167Fall22/Datasets/winequality-white.csv')\n",
        "\n",
        "# set the predictor variables and target variable\n",
        "target= 'quality'\n",
        "predictors = wine_data.columns.drop(target) # use all of the columns except for quality\n",
        "\n",
        "# use train_test_split() to split the data\n",
        "train_data, test_data, train_sln, test_sln = \\\n",
        "        train_test_split(wine_data[predictors], wine_data[target], test_size = 0.2, random_state=41)\n",
        "train_data"
      ],
      "execution_count": null,
      "outputs": [
        {
          "output_type": "execute_result",
          "data": {
            "text/plain": [
              "      fixed acidity  volatile acidity  citric acid  residual sugar  chlorides  \\\n",
              "24              6.9              0.40         0.14             2.4      0.085   \n",
              "728             6.4              0.57         0.02             1.8      0.067   \n",
              "1366            7.3              0.74         0.08             1.7      0.094   \n",
              "1413            9.9              0.57         0.25             2.0      0.104   \n",
              "1456            6.0              0.54         0.06             1.8      0.050   \n",
              "...             ...               ...          ...             ...        ...   \n",
              "407            12.0              0.39         0.66             3.0      0.093   \n",
              "243            15.0              0.21         0.44             2.2      0.075   \n",
              "321             9.3              0.61         0.26             3.4      0.090   \n",
              "1104            8.0              0.48         0.34             2.2      0.073   \n",
              "931             7.4              0.61         0.01             2.0      0.074   \n",
              "\n",
              "      free sulfur dioxide  total sulfur dioxide  density    pH  sulphates  \\\n",
              "24                   21.0                  40.0  0.99680  3.43       0.63   \n",
              "728                   4.0                  11.0  0.99700  3.46       0.68   \n",
              "1366                 10.0                  45.0  0.99576  3.24       0.50   \n",
              "1413                 12.0                  89.0  0.99630  3.04       0.90   \n",
              "1456                 38.0                  89.0  0.99236  3.30       0.50   \n",
              "...                   ...                   ...      ...   ...        ...   \n",
              "407                  12.0                  30.0  0.99960  3.18       0.63   \n",
              "243                  10.0                  24.0  1.00005  3.07       0.84   \n",
              "321                  25.0                  87.0  0.99975  3.24       0.62   \n",
              "1104                 16.0                  25.0  0.99360  3.28       0.66   \n",
              "931                  13.0                  38.0  0.99748  3.48       0.65   \n",
              "\n",
              "      alcohol  \n",
              "24       9.70  \n",
              "728      9.50  \n",
              "1366     9.80  \n",
              "1413    10.10  \n",
              "1456    10.55  \n",
              "...       ...  \n",
              "407     10.80  \n",
              "243      9.20  \n",
              "321      9.70  \n",
              "1104    12.40  \n",
              "931      9.80  \n",
              "\n",
              "[1279 rows x 11 columns]"
            ],
            "text/html": [
              "\n",
              "  <div id=\"df-1c0ce4a9-97a7-4648-9428-848df6803ec6\">\n",
              "    <div class=\"colab-df-container\">\n",
              "      <div>\n",
              "<style scoped>\n",
              "    .dataframe tbody tr th:only-of-type {\n",
              "        vertical-align: middle;\n",
              "    }\n",
              "\n",
              "    .dataframe tbody tr th {\n",
              "        vertical-align: top;\n",
              "    }\n",
              "\n",
              "    .dataframe thead th {\n",
              "        text-align: right;\n",
              "    }\n",
              "</style>\n",
              "<table border=\"1\" class=\"dataframe\">\n",
              "  <thead>\n",
              "    <tr style=\"text-align: right;\">\n",
              "      <th></th>\n",
              "      <th>fixed acidity</th>\n",
              "      <th>volatile acidity</th>\n",
              "      <th>citric acid</th>\n",
              "      <th>residual sugar</th>\n",
              "      <th>chlorides</th>\n",
              "      <th>free sulfur dioxide</th>\n",
              "      <th>total sulfur dioxide</th>\n",
              "      <th>density</th>\n",
              "      <th>pH</th>\n",
              "      <th>sulphates</th>\n",
              "      <th>alcohol</th>\n",
              "    </tr>\n",
              "  </thead>\n",
              "  <tbody>\n",
              "    <tr>\n",
              "      <th>24</th>\n",
              "      <td>6.9</td>\n",
              "      <td>0.40</td>\n",
              "      <td>0.14</td>\n",
              "      <td>2.4</td>\n",
              "      <td>0.085</td>\n",
              "      <td>21.0</td>\n",
              "      <td>40.0</td>\n",
              "      <td>0.99680</td>\n",
              "      <td>3.43</td>\n",
              "      <td>0.63</td>\n",
              "      <td>9.70</td>\n",
              "    </tr>\n",
              "    <tr>\n",
              "      <th>728</th>\n",
              "      <td>6.4</td>\n",
              "      <td>0.57</td>\n",
              "      <td>0.02</td>\n",
              "      <td>1.8</td>\n",
              "      <td>0.067</td>\n",
              "      <td>4.0</td>\n",
              "      <td>11.0</td>\n",
              "      <td>0.99700</td>\n",
              "      <td>3.46</td>\n",
              "      <td>0.68</td>\n",
              "      <td>9.50</td>\n",
              "    </tr>\n",
              "    <tr>\n",
              "      <th>1366</th>\n",
              "      <td>7.3</td>\n",
              "      <td>0.74</td>\n",
              "      <td>0.08</td>\n",
              "      <td>1.7</td>\n",
              "      <td>0.094</td>\n",
              "      <td>10.0</td>\n",
              "      <td>45.0</td>\n",
              "      <td>0.99576</td>\n",
              "      <td>3.24</td>\n",
              "      <td>0.50</td>\n",
              "      <td>9.80</td>\n",
              "    </tr>\n",
              "    <tr>\n",
              "      <th>1413</th>\n",
              "      <td>9.9</td>\n",
              "      <td>0.57</td>\n",
              "      <td>0.25</td>\n",
              "      <td>2.0</td>\n",
              "      <td>0.104</td>\n",
              "      <td>12.0</td>\n",
              "      <td>89.0</td>\n",
              "      <td>0.99630</td>\n",
              "      <td>3.04</td>\n",
              "      <td>0.90</td>\n",
              "      <td>10.10</td>\n",
              "    </tr>\n",
              "    <tr>\n",
              "      <th>1456</th>\n",
              "      <td>6.0</td>\n",
              "      <td>0.54</td>\n",
              "      <td>0.06</td>\n",
              "      <td>1.8</td>\n",
              "      <td>0.050</td>\n",
              "      <td>38.0</td>\n",
              "      <td>89.0</td>\n",
              "      <td>0.99236</td>\n",
              "      <td>3.30</td>\n",
              "      <td>0.50</td>\n",
              "      <td>10.55</td>\n",
              "    </tr>\n",
              "    <tr>\n",
              "      <th>...</th>\n",
              "      <td>...</td>\n",
              "      <td>...</td>\n",
              "      <td>...</td>\n",
              "      <td>...</td>\n",
              "      <td>...</td>\n",
              "      <td>...</td>\n",
              "      <td>...</td>\n",
              "      <td>...</td>\n",
              "      <td>...</td>\n",
              "      <td>...</td>\n",
              "      <td>...</td>\n",
              "    </tr>\n",
              "    <tr>\n",
              "      <th>407</th>\n",
              "      <td>12.0</td>\n",
              "      <td>0.39</td>\n",
              "      <td>0.66</td>\n",
              "      <td>3.0</td>\n",
              "      <td>0.093</td>\n",
              "      <td>12.0</td>\n",
              "      <td>30.0</td>\n",
              "      <td>0.99960</td>\n",
              "      <td>3.18</td>\n",
              "      <td>0.63</td>\n",
              "      <td>10.80</td>\n",
              "    </tr>\n",
              "    <tr>\n",
              "      <th>243</th>\n",
              "      <td>15.0</td>\n",
              "      <td>0.21</td>\n",
              "      <td>0.44</td>\n",
              "      <td>2.2</td>\n",
              "      <td>0.075</td>\n",
              "      <td>10.0</td>\n",
              "      <td>24.0</td>\n",
              "      <td>1.00005</td>\n",
              "      <td>3.07</td>\n",
              "      <td>0.84</td>\n",
              "      <td>9.20</td>\n",
              "    </tr>\n",
              "    <tr>\n",
              "      <th>321</th>\n",
              "      <td>9.3</td>\n",
              "      <td>0.61</td>\n",
              "      <td>0.26</td>\n",
              "      <td>3.4</td>\n",
              "      <td>0.090</td>\n",
              "      <td>25.0</td>\n",
              "      <td>87.0</td>\n",
              "      <td>0.99975</td>\n",
              "      <td>3.24</td>\n",
              "      <td>0.62</td>\n",
              "      <td>9.70</td>\n",
              "    </tr>\n",
              "    <tr>\n",
              "      <th>1104</th>\n",
              "      <td>8.0</td>\n",
              "      <td>0.48</td>\n",
              "      <td>0.34</td>\n",
              "      <td>2.2</td>\n",
              "      <td>0.073</td>\n",
              "      <td>16.0</td>\n",
              "      <td>25.0</td>\n",
              "      <td>0.99360</td>\n",
              "      <td>3.28</td>\n",
              "      <td>0.66</td>\n",
              "      <td>12.40</td>\n",
              "    </tr>\n",
              "    <tr>\n",
              "      <th>931</th>\n",
              "      <td>7.4</td>\n",
              "      <td>0.61</td>\n",
              "      <td>0.01</td>\n",
              "      <td>2.0</td>\n",
              "      <td>0.074</td>\n",
              "      <td>13.0</td>\n",
              "      <td>38.0</td>\n",
              "      <td>0.99748</td>\n",
              "      <td>3.48</td>\n",
              "      <td>0.65</td>\n",
              "      <td>9.80</td>\n",
              "    </tr>\n",
              "  </tbody>\n",
              "</table>\n",
              "<p>1279 rows × 11 columns</p>\n",
              "</div>\n",
              "      <button class=\"colab-df-convert\" onclick=\"convertToInteractive('df-1c0ce4a9-97a7-4648-9428-848df6803ec6')\"\n",
              "              title=\"Convert this dataframe to an interactive table.\"\n",
              "              style=\"display:none;\">\n",
              "        \n",
              "  <svg xmlns=\"http://www.w3.org/2000/svg\" height=\"24px\"viewBox=\"0 0 24 24\"\n",
              "       width=\"24px\">\n",
              "    <path d=\"M0 0h24v24H0V0z\" fill=\"none\"/>\n",
              "    <path d=\"M18.56 5.44l.94 2.06.94-2.06 2.06-.94-2.06-.94-.94-2.06-.94 2.06-2.06.94zm-11 1L8.5 8.5l.94-2.06 2.06-.94-2.06-.94L8.5 2.5l-.94 2.06-2.06.94zm10 10l.94 2.06.94-2.06 2.06-.94-2.06-.94-.94-2.06-.94 2.06-2.06.94z\"/><path d=\"M17.41 7.96l-1.37-1.37c-.4-.4-.92-.59-1.43-.59-.52 0-1.04.2-1.43.59L10.3 9.45l-7.72 7.72c-.78.78-.78 2.05 0 2.83L4 21.41c.39.39.9.59 1.41.59.51 0 1.02-.2 1.41-.59l7.78-7.78 2.81-2.81c.8-.78.8-2.07 0-2.86zM5.41 20L4 18.59l7.72-7.72 1.47 1.35L5.41 20z\"/>\n",
              "  </svg>\n",
              "      </button>\n",
              "      \n",
              "  <style>\n",
              "    .colab-df-container {\n",
              "      display:flex;\n",
              "      flex-wrap:wrap;\n",
              "      gap: 12px;\n",
              "    }\n",
              "\n",
              "    .colab-df-convert {\n",
              "      background-color: #E8F0FE;\n",
              "      border: none;\n",
              "      border-radius: 50%;\n",
              "      cursor: pointer;\n",
              "      display: none;\n",
              "      fill: #1967D2;\n",
              "      height: 32px;\n",
              "      padding: 0 0 0 0;\n",
              "      width: 32px;\n",
              "    }\n",
              "\n",
              "    .colab-df-convert:hover {\n",
              "      background-color: #E2EBFA;\n",
              "      box-shadow: 0px 1px 2px rgba(60, 64, 67, 0.3), 0px 1px 3px 1px rgba(60, 64, 67, 0.15);\n",
              "      fill: #174EA6;\n",
              "    }\n",
              "\n",
              "    [theme=dark] .colab-df-convert {\n",
              "      background-color: #3B4455;\n",
              "      fill: #D2E3FC;\n",
              "    }\n",
              "\n",
              "    [theme=dark] .colab-df-convert:hover {\n",
              "      background-color: #434B5C;\n",
              "      box-shadow: 0px 1px 3px 1px rgba(0, 0, 0, 0.15);\n",
              "      filter: drop-shadow(0px 1px 2px rgba(0, 0, 0, 0.3));\n",
              "      fill: #FFFFFF;\n",
              "    }\n",
              "  </style>\n",
              "\n",
              "      <script>\n",
              "        const buttonEl =\n",
              "          document.querySelector('#df-1c0ce4a9-97a7-4648-9428-848df6803ec6 button.colab-df-convert');\n",
              "        buttonEl.style.display =\n",
              "          google.colab.kernel.accessAllowed ? 'block' : 'none';\n",
              "\n",
              "        async function convertToInteractive(key) {\n",
              "          const element = document.querySelector('#df-1c0ce4a9-97a7-4648-9428-848df6803ec6');\n",
              "          const dataTable =\n",
              "            await google.colab.kernel.invokeFunction('convertToInteractive',\n",
              "                                                     [key], {});\n",
              "          if (!dataTable) return;\n",
              "\n",
              "          const docLinkHtml = 'Like what you see? Visit the ' +\n",
              "            '<a target=\"_blank\" href=https://colab.research.google.com/notebooks/data_table.ipynb>data table notebook</a>'\n",
              "            + ' to learn more about interactive tables.';\n",
              "          element.innerHTML = '';\n",
              "          dataTable['output_type'] = 'display_data';\n",
              "          await google.colab.output.renderOutput(dataTable, element);\n",
              "          const docLink = document.createElement('div');\n",
              "          docLink.innerHTML = docLinkHtml;\n",
              "          element.appendChild(docLink);\n",
              "        }\n",
              "      </script>\n",
              "    </div>\n",
              "  </div>\n",
              "  "
            ]
          },
          "metadata": {},
          "execution_count": 72
        }
      ]
    },
    {
      "cell_type": "code",
      "metadata": {
        "id": "FqIWBL0hGMaH",
        "colab": {
          "base_uri": "https://localhost:8080/"
        },
        "outputId": "e07be02e-59ee-4bc1-9804-f34c08149e71"
      },
      "source": [
        "from sklearn import neighbors\n",
        "from sklearn import metrics\n",
        "\n",
        "# create our model\n",
        "neigh = neighbors.KNeighborsRegressor() ### Don't miss this! Doing Regression here!!\n",
        "\n",
        "# fit (train) the model to the data\n",
        "neigh.fit(train_data, train_sln)\n",
        "\n",
        "# use the trained model to get predictions from our test_data\n",
        "predictions = neigh.predict(test_data)\n",
        "\n",
        "# use a metric to see how good our predictions are; Don't miss this! Using Regression metrics here!!\n",
        "print('MSE: ', metrics.mean_squared_error(test_sln, predictions))\n",
        "print('r2: ', metrics.r2_score(test_sln, predictions))"
      ],
      "execution_count": null,
      "outputs": [
        {
          "output_type": "stream",
          "name": "stdout",
          "text": [
            "MSE:  0.5618749999999999\n",
            "r2:  0.10189810189810189\n"
          ]
        }
      ]
    },
    {
      "cell_type": "markdown",
      "source": [
        "## Normalizing Data\n",
        "Whoa! This is so easy! SciKit Learn is awesome!!"
      ],
      "metadata": {
        "id": "7ukpn7o1Pxzs"
      }
    },
    {
      "cell_type": "code",
      "metadata": {
        "id": "iQ3g26VfaYSr"
      },
      "source": [
        "# Normalization code using StandardScaler\n",
        "\n",
        "from sklearn.preprocessing import StandardScaler\n",
        "scaler = StandardScaler()\n",
        "scaler.fit(train_data)\n",
        "train_data_normalized = scaler.transform(train_data)\n",
        "test_data_normalized = scaler.transform(test_data)\n",
        "\n",
        "# now I can use train_data_normalized and test_data_normalized"
      ],
      "execution_count": null,
      "outputs": []
    },
    {
      "cell_type": "markdown",
      "source": [
        "# Exercise #2\n",
        "- Run kNN regressor algorithm with k (n_neighbors) = 15 using non-normalized data\n",
        "- Run again with normalized values\n",
        "- Which provides a better R^2?\n"
      ],
      "metadata": {
        "id": "BgDU4bV4bl7M"
      }
    },
    {
      "cell_type": "markdown",
      "source": [
        "## Exercise #2B\n",
        "Create a graph with k values on the x-axis and R^2 values on the y-axis..."
      ],
      "metadata": {
        "id": "uET_7_0fjg_e"
      }
    },
    {
      "cell_type": "markdown",
      "source": [
        "## Exercise #3\n",
        "\n",
        "* Go to scikit learn (https://scikit-learn.org/stable/)\n",
        "* Search for “Decision Tree Regression”\n",
        "* Implement a Decision Tree Regressor algorithm in Sci Kit Learn for the wine data."
      ],
      "metadata": {
        "id": "KlwuR732ULdG"
      }
    },
    {
      "cell_type": "markdown",
      "source": [
        "Hypothesis #1: low values for the max depth a decision tree will cause low R^2 values. Increasing the max depth will increase the R^2 values; At a certain point, increasing the max depth will no longer have an effect on the R^2 values;"
      ],
      "metadata": {
        "id": "v3WhAaYBWGAE"
      }
    },
    {
      "cell_type": "code",
      "source": [
        "# code for hypothesis #1 testing here\n",
        "#idea: Create a graph with max_depth on the x-axis, and R^2 values on the y axis.\n"
      ],
      "metadata": {
        "id": "uzYA2WGDmYib"
      },
      "execution_count": null,
      "outputs": []
    },
    {
      "cell_type": "markdown",
      "source": [
        "Hypothesis #2: normalization does not affect decision trees metrics\n"
      ],
      "metadata": {
        "id": "xPuhOQTpWU9_"
      }
    },
    {
      "cell_type": "code",
      "source": [
        "# code for hypothesis #2 testing here\n",
        "# idea: create decision trees with all of the same parameters (random_state=0) on normalized and non-normalized data; vary possible parameters; compare results\n"
      ],
      "metadata": {
        "id": "9vmD50k4mx_D"
      },
      "execution_count": null,
      "outputs": []
    }
  ]
}