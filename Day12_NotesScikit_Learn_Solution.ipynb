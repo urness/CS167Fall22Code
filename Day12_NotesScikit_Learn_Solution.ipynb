{
  "nbformat": 4,
  "nbformat_minor": 0,
  "metadata": {
    "colab": {
      "provenance": [],
      "collapsed_sections": [],
      "include_colab_link": true
    },
    "kernelspec": {
      "name": "python3",
      "display_name": "Python 3"
    }
  },
  "cells": [
    {
      "cell_type": "markdown",
      "metadata": {
        "id": "view-in-github",
        "colab_type": "text"
      },
      "source": [
        "<a href=\"https://colab.research.google.com/github/urness/CS167Fall22Code/blob/main/Day12_NotesScikit_Learn_Solution.ipynb\" target=\"_parent\"><img src=\"https://colab.research.google.com/assets/colab-badge.svg\" alt=\"Open In Colab\"/></a>"
      ]
    },
    {
      "cell_type": "markdown",
      "metadata": {
        "id": "nRKRqwYLXu5o"
      },
      "source": [
        "# Day 12 Notes: Introduction to [Scikit-Learn](https://scikit-learn.org/stable/modules/classes.html)\n",
        "\n",
        "The overall algorithm for scikit-learn (sklearn) is:\n",
        "0. Load Libraries\n",
        "1. Load data\n",
        "2. Split Data: use `train_test_split()`\n",
        "3. Create a classifier/regressor object\n",
        "4. Call `fit()` (to train the model)\n",
        "5. Call `predict()` to get the predictions\n",
        "6. Call a metric function to measure performance\n",
        "\n",
        "In the cell below, we do steps 0-2:"
      ]
    },
    {
      "cell_type": "code",
      "metadata": {
        "id": "jACG87F_YtNM",
        "colab": {
          "base_uri": "https://localhost:8080/"
        },
        "outputId": "3c1fad4f-a9f5-41e1-ce14-210fed6ae81a"
      },
      "source": [
        "# Mount your drive\n",
        "from google.colab import drive\n",
        "drive.mount('/content/drive')\n",
        "\n"
      ],
      "execution_count": null,
      "outputs": [
        {
          "output_type": "stream",
          "name": "stdout",
          "text": [
            "Drive already mounted at /content/drive; to attempt to forcibly remount, call drive.mount(\"/content/drive\", force_remount=True).\n"
          ]
        }
      ]
    },
    {
      "cell_type": "code",
      "source": [
        "#classic scikit-learn algorithm\n",
        "\n",
        "#0. import libraries\n",
        "import sklearn\n",
        "import pandas\n",
        "from sklearn import tree\n",
        "from sklearn.model_selection import train_test_split\n",
        "from sklearn import metrics\n",
        "from sklearn import neighbors\n",
        "\n",
        "#1. load data\n",
        "iris_data = pandas.read_csv('/content/drive/MyDrive/CS167Fall22/Datasets/irisData.csv')\n",
        "\n",
        "#2. split data\n",
        "predictors = ['sepal length', 'sepal width','petal length', 'petal width']\n",
        "target = \"species\"\n",
        "train_data, test_data, train_sln, test_sln = \\\n",
        "        train_test_split(iris_data[predictors], iris_data[target], test_size = 0.2, random_state=41)"
      ],
      "metadata": {
        "id": "gkgZzOaCExuz"
      },
      "execution_count": null,
      "outputs": []
    },
    {
      "cell_type": "code",
      "metadata": {
        "id": "tuElLYzaIjAS",
        "colab": {
          "base_uri": "https://localhost:8080/"
        },
        "outputId": "472d7ef9-6196-447d-eacc-203cd77aa55b"
      },
      "source": [
        "#3. Create classifier/regressor object (change these parameters for Exercise #1)\n",
        "dt = tree.DecisionTreeClassifier(random_state = 0)\n",
        "\n",
        "#4. Call fit (to train the classification/regression model)\n",
        "dt.fit(train_data,train_sln)\n",
        "\n",
        "#5. Call predict to generate predictions\n",
        "iris_predictions = dt.predict(test_data)\n",
        "\n",
        "#6. Call a metric function to measure performance\n",
        "print(\"Accuracy:\", metrics.accuracy_score(test_sln,iris_predictions))\n",
        "\n",
        "print(\"-------------------------------------------------------\")\n",
        "#print out a confusion matrix\n",
        "iris_labels= [\"Iris-setosa\", \"Iris-versicolor\",\"Iris-virginica\"]\n",
        "conf_mat = metrics.confusion_matrix(test_sln, iris_predictions, labels=iris_labels)\n",
        "print(pandas.DataFrame(conf_mat,index = iris_labels, columns = iris_labels))"
      ],
      "execution_count": null,
      "outputs": [
        {
          "output_type": "stream",
          "name": "stdout",
          "text": [
            "Accuracy: 0.9\n",
            "-------------------------------------------------------\n",
            "                 Iris-setosa  Iris-versicolor  Iris-virginica\n",
            "Iris-setosa                9                0               0\n",
            "Iris-versicolor            0               10               1\n",
            "Iris-virginica             0                2               8\n"
          ]
        }
      ]
    },
    {
      "cell_type": "markdown",
      "metadata": {
        "id": "XHhcBGYLClDD"
      },
      "source": [
        "## Exercise #1A\n",
        "Check out the scikit-learn documentation [here](https://scikit-learn.org/stable/modules/generated/sklearn.neighbors.KNeighborsClassifier.html?highlight=neighbors#sklearn.neighbors.KNeighborsClassifier):\n",
        "\n",
        "Find the documentation for the kNN classifier (i.e., the classifier, not an unsupervised algorithm). Answer the following questions:\n",
        "- What is the default value of k it uses?\n",
        "- Does it do weighted or unweighted kNN by default?\n",
        "\n"
      ]
    },
    {
      "cell_type": "markdown",
      "source": [
        "[docs for knn](https://scikit-learn.org/stable/modules/generated/sklearn.neighbors.KNeighborsClassifier.html#sklearn.neighbors.KNeighborsClassifier)"
      ],
      "metadata": {
        "id": "D6ZTepnRMZuM"
      }
    },
    {
      "cell_type": "markdown",
      "source": [
        "## Exercise #1B\n",
        "Implement SciKit Learn’s KNN function\n",
        "- Run with k=100 (what is the parameter that SciKit Learn uses for k?) What is the accuracy?\n",
        "- Run with k=100 weighted vs. non-weighted. What is the accuracy?\n",
        "- Run with k=5. What is the accuracy?\n"
      ],
      "metadata": {
        "id": "DrWN6pQsCQRK"
      }
    },
    {
      "cell_type": "code",
      "source": [
        "# here's a hint:\n",
        "from sklearn.neighbors import KNeighborsClassifier\n",
        "\n",
        "neigh = KNeighborsClassifier() # may need to pass in some parameters here..\n",
        "neigh.fit(train_data,train_sln)\n"
      ],
      "metadata": {
        "id": "gFkvbtlFCdlv",
        "colab": {
          "base_uri": "https://localhost:8080/"
        },
        "outputId": "4090adbc-2f2a-4d24-f140-5b93af84c609"
      },
      "execution_count": null,
      "outputs": [
        {
          "output_type": "execute_result",
          "data": {
            "text/plain": [
              "KNeighborsClassifier()"
            ]
          },
          "metadata": {},
          "execution_count": 6
        }
      ]
    },
    {
      "cell_type": "code",
      "source": [
        "# code for exercise #3\n",
        "# default: 5\n",
        "# default: uniform (unweighted)\n",
        "\n",
        "# non weighted\n",
        "neigh = KNeighborsClassifier(weights = \"uniform\", n_neighbors=100)\n",
        "#4. Call fit (to train the classification/regression model)\n",
        "neigh.fit(train_data,train_sln)\n",
        "#5. Call predict to generate predictions\n",
        "iris_predictions = neigh.predict(test_data)\n",
        "#6. Call a metric function to measure performance\n",
        "print(\"NON WEIGHTED Accuracy:\", metrics.accuracy_score(test_sln,iris_predictions))"
      ],
      "metadata": {
        "colab": {
          "base_uri": "https://localhost:8080/"
        },
        "id": "NpT1YpGQJy_V",
        "outputId": "b4940cdf-6b82-44c6-e73e-e7cc4a0625dd"
      },
      "execution_count": null,
      "outputs": [
        {
          "output_type": "stream",
          "name": "stdout",
          "text": [
            "NON WEIGHTED Accuracy: 0.8\n"
          ]
        }
      ]
    },
    {
      "cell_type": "code",
      "source": [
        "# weighted\n",
        "neigh = KNeighborsClassifier(weights = \"distance\", n_neighbors=100)\n",
        "#4. Call fit (to train the classification/regression model)\n",
        "neigh.fit(train_data,train_sln)\n",
        "#5. Call predict to generate predictions\n",
        "iris_predictions = neigh.predict(test_data)\n",
        "#6. Call a metric function to measure performance\n",
        "print(\"WEIGHTED Accuracy:\", metrics.accuracy_score(test_sln,iris_predictions))"
      ],
      "metadata": {
        "colab": {
          "base_uri": "https://localhost:8080/"
        },
        "id": "p82ljutKJ35y",
        "outputId": "026bec40-6f58-49a8-d394-0b4e04b3b296"
      },
      "execution_count": null,
      "outputs": [
        {
          "output_type": "stream",
          "name": "stdout",
          "text": [
            "WEIGHTED Accuracy: 0.9333333333333333\n"
          ]
        }
      ]
    },
    {
      "cell_type": "markdown",
      "source": [
        "small values of k (e.g. k = 5)"
      ],
      "metadata": {
        "id": "PEBzC9p6Alf5"
      }
    },
    {
      "cell_type": "code",
      "source": [
        "# non weighted\n",
        "neigh = KNeighborsClassifier(weights = \"uniform\", n_neighbors=5)\n",
        "#4. Call fit (to train the classification/regression model)\n",
        "neigh.fit(train_data,train_sln)\n",
        "#5. Call predict to generate predictions\n",
        "iris_predictions = neigh.predict(test_data)\n",
        "#6. Call a metric function to measure performance\n",
        "print(\"NON WEIGHTED K=5 Accuracy:\", metrics.accuracy_score(test_sln,iris_predictions))"
      ],
      "metadata": {
        "id": "UeVHfWLVJ-51",
        "colab": {
          "base_uri": "https://localhost:8080/"
        },
        "outputId": "7ee26950-959a-4d61-cc11-60bb008f486b"
      },
      "execution_count": null,
      "outputs": [
        {
          "output_type": "stream",
          "name": "stdout",
          "text": [
            "NON WEIGHTED K=5 Accuracy: 0.9666666666666667\n"
          ]
        }
      ]
    },
    {
      "cell_type": "code",
      "source": [
        "# weighted\n",
        "neigh = KNeighborsClassifier(weights = \"distance\", n_neighbors=5)\n",
        "#4. Call fit (to train the classification/regression model)\n",
        "neigh.fit(train_data,train_sln)\n",
        "#5. Call predict to generate predictions\n",
        "iris_predictions = neigh.predict(test_data)\n",
        "#6. Call a metric function to measure performance\n",
        "print(\"WEIGHTED K=5  Accuracy:\", metrics.accuracy_score(test_sln,iris_predictions))"
      ],
      "metadata": {
        "colab": {
          "base_uri": "https://localhost:8080/"
        },
        "id": "Ote7xdLHAwoR",
        "outputId": "70fe2198-b650-4dd4-e6c9-865e103f7a83"
      },
      "execution_count": null,
      "outputs": [
        {
          "output_type": "stream",
          "name": "stdout",
          "text": [
            "WEIGHTED K=5  Accuracy: 0.9666666666666667\n"
          ]
        }
      ]
    },
    {
      "cell_type": "markdown",
      "metadata": {
        "id": "X5-9noncBmSS"
      },
      "source": [
        "## Let's try regression now:\n"
      ]
    },
    {
      "cell_type": "code",
      "metadata": {
        "id": "U1_1ZDyuaRLX",
        "colab": {
          "base_uri": "https://localhost:8080/",
          "height": 424
        },
        "outputId": "a7a3a813-eb13-4527-c4a8-76b720c80c1c"
      },
      "source": [
        "import pandas\n",
        "import numpy\n",
        "\n",
        "# load WineQuality.csv data \n",
        "wine_data = pandas.read_csv('/content/drive/MyDrive/CS167Fall22/Datasets/winequality-white.csv')\n",
        "\n",
        "# set the predictor variables and target variable\n",
        "target= 'quality'\n",
        "predictors = wine_data.columns.drop(target) # use all of the columns except for quality\n",
        "\n",
        "# use train_test_split() to split the data\n",
        "train_data, test_data, train_sln, test_sln = \\\n",
        "        train_test_split(wine_data[predictors], wine_data[target], test_size = 0.2, random_state=41)\n",
        "train_data"
      ],
      "execution_count": null,
      "outputs": [
        {
          "output_type": "execute_result",
          "data": {
            "text/plain": [
              "      fixed acidity  volatile acidity  citric acid  residual sugar  chlorides  \\\n",
              "24              6.9              0.40         0.14             2.4      0.085   \n",
              "728             6.4              0.57         0.02             1.8      0.067   \n",
              "1366            7.3              0.74         0.08             1.7      0.094   \n",
              "1413            9.9              0.57         0.25             2.0      0.104   \n",
              "1456            6.0              0.54         0.06             1.8      0.050   \n",
              "...             ...               ...          ...             ...        ...   \n",
              "407            12.0              0.39         0.66             3.0      0.093   \n",
              "243            15.0              0.21         0.44             2.2      0.075   \n",
              "321             9.3              0.61         0.26             3.4      0.090   \n",
              "1104            8.0              0.48         0.34             2.2      0.073   \n",
              "931             7.4              0.61         0.01             2.0      0.074   \n",
              "\n",
              "      free sulfur dioxide  total sulfur dioxide  density    pH  sulphates  \\\n",
              "24                   21.0                  40.0  0.99680  3.43       0.63   \n",
              "728                   4.0                  11.0  0.99700  3.46       0.68   \n",
              "1366                 10.0                  45.0  0.99576  3.24       0.50   \n",
              "1413                 12.0                  89.0  0.99630  3.04       0.90   \n",
              "1456                 38.0                  89.0  0.99236  3.30       0.50   \n",
              "...                   ...                   ...      ...   ...        ...   \n",
              "407                  12.0                  30.0  0.99960  3.18       0.63   \n",
              "243                  10.0                  24.0  1.00005  3.07       0.84   \n",
              "321                  25.0                  87.0  0.99975  3.24       0.62   \n",
              "1104                 16.0                  25.0  0.99360  3.28       0.66   \n",
              "931                  13.0                  38.0  0.99748  3.48       0.65   \n",
              "\n",
              "      alcohol  \n",
              "24       9.70  \n",
              "728      9.50  \n",
              "1366     9.80  \n",
              "1413    10.10  \n",
              "1456    10.55  \n",
              "...       ...  \n",
              "407     10.80  \n",
              "243      9.20  \n",
              "321      9.70  \n",
              "1104    12.40  \n",
              "931      9.80  \n",
              "\n",
              "[1279 rows x 11 columns]"
            ],
            "text/html": [
              "\n",
              "  <div id=\"df-afe412e4-1152-46a4-9f57-8f76eb19b352\">\n",
              "    <div class=\"colab-df-container\">\n",
              "      <div>\n",
              "<style scoped>\n",
              "    .dataframe tbody tr th:only-of-type {\n",
              "        vertical-align: middle;\n",
              "    }\n",
              "\n",
              "    .dataframe tbody tr th {\n",
              "        vertical-align: top;\n",
              "    }\n",
              "\n",
              "    .dataframe thead th {\n",
              "        text-align: right;\n",
              "    }\n",
              "</style>\n",
              "<table border=\"1\" class=\"dataframe\">\n",
              "  <thead>\n",
              "    <tr style=\"text-align: right;\">\n",
              "      <th></th>\n",
              "      <th>fixed acidity</th>\n",
              "      <th>volatile acidity</th>\n",
              "      <th>citric acid</th>\n",
              "      <th>residual sugar</th>\n",
              "      <th>chlorides</th>\n",
              "      <th>free sulfur dioxide</th>\n",
              "      <th>total sulfur dioxide</th>\n",
              "      <th>density</th>\n",
              "      <th>pH</th>\n",
              "      <th>sulphates</th>\n",
              "      <th>alcohol</th>\n",
              "    </tr>\n",
              "  </thead>\n",
              "  <tbody>\n",
              "    <tr>\n",
              "      <th>24</th>\n",
              "      <td>6.9</td>\n",
              "      <td>0.40</td>\n",
              "      <td>0.14</td>\n",
              "      <td>2.4</td>\n",
              "      <td>0.085</td>\n",
              "      <td>21.0</td>\n",
              "      <td>40.0</td>\n",
              "      <td>0.99680</td>\n",
              "      <td>3.43</td>\n",
              "      <td>0.63</td>\n",
              "      <td>9.70</td>\n",
              "    </tr>\n",
              "    <tr>\n",
              "      <th>728</th>\n",
              "      <td>6.4</td>\n",
              "      <td>0.57</td>\n",
              "      <td>0.02</td>\n",
              "      <td>1.8</td>\n",
              "      <td>0.067</td>\n",
              "      <td>4.0</td>\n",
              "      <td>11.0</td>\n",
              "      <td>0.99700</td>\n",
              "      <td>3.46</td>\n",
              "      <td>0.68</td>\n",
              "      <td>9.50</td>\n",
              "    </tr>\n",
              "    <tr>\n",
              "      <th>1366</th>\n",
              "      <td>7.3</td>\n",
              "      <td>0.74</td>\n",
              "      <td>0.08</td>\n",
              "      <td>1.7</td>\n",
              "      <td>0.094</td>\n",
              "      <td>10.0</td>\n",
              "      <td>45.0</td>\n",
              "      <td>0.99576</td>\n",
              "      <td>3.24</td>\n",
              "      <td>0.50</td>\n",
              "      <td>9.80</td>\n",
              "    </tr>\n",
              "    <tr>\n",
              "      <th>1413</th>\n",
              "      <td>9.9</td>\n",
              "      <td>0.57</td>\n",
              "      <td>0.25</td>\n",
              "      <td>2.0</td>\n",
              "      <td>0.104</td>\n",
              "      <td>12.0</td>\n",
              "      <td>89.0</td>\n",
              "      <td>0.99630</td>\n",
              "      <td>3.04</td>\n",
              "      <td>0.90</td>\n",
              "      <td>10.10</td>\n",
              "    </tr>\n",
              "    <tr>\n",
              "      <th>1456</th>\n",
              "      <td>6.0</td>\n",
              "      <td>0.54</td>\n",
              "      <td>0.06</td>\n",
              "      <td>1.8</td>\n",
              "      <td>0.050</td>\n",
              "      <td>38.0</td>\n",
              "      <td>89.0</td>\n",
              "      <td>0.99236</td>\n",
              "      <td>3.30</td>\n",
              "      <td>0.50</td>\n",
              "      <td>10.55</td>\n",
              "    </tr>\n",
              "    <tr>\n",
              "      <th>...</th>\n",
              "      <td>...</td>\n",
              "      <td>...</td>\n",
              "      <td>...</td>\n",
              "      <td>...</td>\n",
              "      <td>...</td>\n",
              "      <td>...</td>\n",
              "      <td>...</td>\n",
              "      <td>...</td>\n",
              "      <td>...</td>\n",
              "      <td>...</td>\n",
              "      <td>...</td>\n",
              "    </tr>\n",
              "    <tr>\n",
              "      <th>407</th>\n",
              "      <td>12.0</td>\n",
              "      <td>0.39</td>\n",
              "      <td>0.66</td>\n",
              "      <td>3.0</td>\n",
              "      <td>0.093</td>\n",
              "      <td>12.0</td>\n",
              "      <td>30.0</td>\n",
              "      <td>0.99960</td>\n",
              "      <td>3.18</td>\n",
              "      <td>0.63</td>\n",
              "      <td>10.80</td>\n",
              "    </tr>\n",
              "    <tr>\n",
              "      <th>243</th>\n",
              "      <td>15.0</td>\n",
              "      <td>0.21</td>\n",
              "      <td>0.44</td>\n",
              "      <td>2.2</td>\n",
              "      <td>0.075</td>\n",
              "      <td>10.0</td>\n",
              "      <td>24.0</td>\n",
              "      <td>1.00005</td>\n",
              "      <td>3.07</td>\n",
              "      <td>0.84</td>\n",
              "      <td>9.20</td>\n",
              "    </tr>\n",
              "    <tr>\n",
              "      <th>321</th>\n",
              "      <td>9.3</td>\n",
              "      <td>0.61</td>\n",
              "      <td>0.26</td>\n",
              "      <td>3.4</td>\n",
              "      <td>0.090</td>\n",
              "      <td>25.0</td>\n",
              "      <td>87.0</td>\n",
              "      <td>0.99975</td>\n",
              "      <td>3.24</td>\n",
              "      <td>0.62</td>\n",
              "      <td>9.70</td>\n",
              "    </tr>\n",
              "    <tr>\n",
              "      <th>1104</th>\n",
              "      <td>8.0</td>\n",
              "      <td>0.48</td>\n",
              "      <td>0.34</td>\n",
              "      <td>2.2</td>\n",
              "      <td>0.073</td>\n",
              "      <td>16.0</td>\n",
              "      <td>25.0</td>\n",
              "      <td>0.99360</td>\n",
              "      <td>3.28</td>\n",
              "      <td>0.66</td>\n",
              "      <td>12.40</td>\n",
              "    </tr>\n",
              "    <tr>\n",
              "      <th>931</th>\n",
              "      <td>7.4</td>\n",
              "      <td>0.61</td>\n",
              "      <td>0.01</td>\n",
              "      <td>2.0</td>\n",
              "      <td>0.074</td>\n",
              "      <td>13.0</td>\n",
              "      <td>38.0</td>\n",
              "      <td>0.99748</td>\n",
              "      <td>3.48</td>\n",
              "      <td>0.65</td>\n",
              "      <td>9.80</td>\n",
              "    </tr>\n",
              "  </tbody>\n",
              "</table>\n",
              "<p>1279 rows × 11 columns</p>\n",
              "</div>\n",
              "      <button class=\"colab-df-convert\" onclick=\"convertToInteractive('df-afe412e4-1152-46a4-9f57-8f76eb19b352')\"\n",
              "              title=\"Convert this dataframe to an interactive table.\"\n",
              "              style=\"display:none;\">\n",
              "        \n",
              "  <svg xmlns=\"http://www.w3.org/2000/svg\" height=\"24px\"viewBox=\"0 0 24 24\"\n",
              "       width=\"24px\">\n",
              "    <path d=\"M0 0h24v24H0V0z\" fill=\"none\"/>\n",
              "    <path d=\"M18.56 5.44l.94 2.06.94-2.06 2.06-.94-2.06-.94-.94-2.06-.94 2.06-2.06.94zm-11 1L8.5 8.5l.94-2.06 2.06-.94-2.06-.94L8.5 2.5l-.94 2.06-2.06.94zm10 10l.94 2.06.94-2.06 2.06-.94-2.06-.94-.94-2.06-.94 2.06-2.06.94z\"/><path d=\"M17.41 7.96l-1.37-1.37c-.4-.4-.92-.59-1.43-.59-.52 0-1.04.2-1.43.59L10.3 9.45l-7.72 7.72c-.78.78-.78 2.05 0 2.83L4 21.41c.39.39.9.59 1.41.59.51 0 1.02-.2 1.41-.59l7.78-7.78 2.81-2.81c.8-.78.8-2.07 0-2.86zM5.41 20L4 18.59l7.72-7.72 1.47 1.35L5.41 20z\"/>\n",
              "  </svg>\n",
              "      </button>\n",
              "      \n",
              "  <style>\n",
              "    .colab-df-container {\n",
              "      display:flex;\n",
              "      flex-wrap:wrap;\n",
              "      gap: 12px;\n",
              "    }\n",
              "\n",
              "    .colab-df-convert {\n",
              "      background-color: #E8F0FE;\n",
              "      border: none;\n",
              "      border-radius: 50%;\n",
              "      cursor: pointer;\n",
              "      display: none;\n",
              "      fill: #1967D2;\n",
              "      height: 32px;\n",
              "      padding: 0 0 0 0;\n",
              "      width: 32px;\n",
              "    }\n",
              "\n",
              "    .colab-df-convert:hover {\n",
              "      background-color: #E2EBFA;\n",
              "      box-shadow: 0px 1px 2px rgba(60, 64, 67, 0.3), 0px 1px 3px 1px rgba(60, 64, 67, 0.15);\n",
              "      fill: #174EA6;\n",
              "    }\n",
              "\n",
              "    [theme=dark] .colab-df-convert {\n",
              "      background-color: #3B4455;\n",
              "      fill: #D2E3FC;\n",
              "    }\n",
              "\n",
              "    [theme=dark] .colab-df-convert:hover {\n",
              "      background-color: #434B5C;\n",
              "      box-shadow: 0px 1px 3px 1px rgba(0, 0, 0, 0.15);\n",
              "      filter: drop-shadow(0px 1px 2px rgba(0, 0, 0, 0.3));\n",
              "      fill: #FFFFFF;\n",
              "    }\n",
              "  </style>\n",
              "\n",
              "      <script>\n",
              "        const buttonEl =\n",
              "          document.querySelector('#df-afe412e4-1152-46a4-9f57-8f76eb19b352 button.colab-df-convert');\n",
              "        buttonEl.style.display =\n",
              "          google.colab.kernel.accessAllowed ? 'block' : 'none';\n",
              "\n",
              "        async function convertToInteractive(key) {\n",
              "          const element = document.querySelector('#df-afe412e4-1152-46a4-9f57-8f76eb19b352');\n",
              "          const dataTable =\n",
              "            await google.colab.kernel.invokeFunction('convertToInteractive',\n",
              "                                                     [key], {});\n",
              "          if (!dataTable) return;\n",
              "\n",
              "          const docLinkHtml = 'Like what you see? Visit the ' +\n",
              "            '<a target=\"_blank\" href=https://colab.research.google.com/notebooks/data_table.ipynb>data table notebook</a>'\n",
              "            + ' to learn more about interactive tables.';\n",
              "          element.innerHTML = '';\n",
              "          dataTable['output_type'] = 'display_data';\n",
              "          await google.colab.output.renderOutput(dataTable, element);\n",
              "          const docLink = document.createElement('div');\n",
              "          docLink.innerHTML = docLinkHtml;\n",
              "          element.appendChild(docLink);\n",
              "        }\n",
              "      </script>\n",
              "    </div>\n",
              "  </div>\n",
              "  "
            ]
          },
          "metadata": {},
          "execution_count": 51
        }
      ]
    },
    {
      "cell_type": "code",
      "metadata": {
        "id": "FqIWBL0hGMaH",
        "colab": {
          "base_uri": "https://localhost:8080/"
        },
        "outputId": "0bffc960-05d9-407b-8509-e8a17e073d13"
      },
      "source": [
        "from sklearn import neighbors\n",
        "from sklearn import metrics\n",
        "\n",
        "# create our model\n",
        "neigh = neighbors.KNeighborsRegressor() ### Don't miss this! Doing Regression here!!\n",
        "\n",
        "# fit (train) the model to the data\n",
        "neigh.fit(train_data, train_sln)\n",
        "\n",
        "# use the trained model to get predictions from our test_data\n",
        "predictions = neigh.predict(test_data)\n",
        "\n",
        "# use a metric to see how good our predictions are; Don't miss this! Using Regression metrics here!!\n",
        "print('MSE: ', metrics.mean_squared_error(test_sln, predictions))\n",
        "print('r2: ', metrics.r2_score(test_sln, predictions))"
      ],
      "execution_count": null,
      "outputs": [
        {
          "output_type": "stream",
          "name": "stdout",
          "text": [
            "MSE:  0.5618749999999999\n",
            "r2:  0.10189810189810189\n"
          ]
        }
      ]
    },
    {
      "cell_type": "markdown",
      "source": [
        "## Normalizing Data\n",
        "Whoa! This is so easy! SciKit Learn is awesome!!"
      ],
      "metadata": {
        "id": "7ukpn7o1Pxzs"
      }
    },
    {
      "cell_type": "code",
      "metadata": {
        "id": "iQ3g26VfaYSr"
      },
      "source": [
        "# Normalization code using StandardScaler\n",
        "\n",
        "from sklearn.preprocessing import StandardScaler\n",
        "scaler = StandardScaler()\n",
        "scaler.fit(train_data)\n",
        "train_data_normalized = scaler.transform(train_data)\n",
        "test_data_normalized = scaler.transform(test_data)\n",
        "\n",
        "# now I can use train_data_normalized and test_data_normalized"
      ],
      "execution_count": null,
      "outputs": []
    },
    {
      "cell_type": "markdown",
      "source": [
        "# Exercise #2\n",
        "- Run kNN regressor algorithm with k (n_neighbors) = 15\n",
        "- Run again with normalized values\n",
        "- Which provides a better R^2?\n"
      ],
      "metadata": {
        "id": "BgDU4bV4bl7M"
      }
    },
    {
      "cell_type": "code",
      "source": [
        "print(\"NOT NORMALIZED k=15\")\n",
        "from sklearn import neighbors\n",
        "# create our model\n",
        "neigh = neighbors.KNeighborsRegressor(n_neighbors=15) ### Don't miss this! Doing Regression here!!\n",
        "\n",
        "# fit (train) the model to the data\n",
        "neigh.fit(train_data, train_sln)\n",
        "\n",
        "# use the trained model to get predictions from our test_data\n",
        "predictions = neigh.predict(test_data)\n",
        "\n",
        "\n",
        "# use a metric to see how good our predictions are; Don't miss this! Using Regression metrics here!!\n",
        "print('MSE: ', metrics.mean_squared_error(test_sln, predictions))\n",
        "print('r2: ', metrics.r2_score(test_sln, predictions))"
      ],
      "metadata": {
        "colab": {
          "base_uri": "https://localhost:8080/"
        },
        "id": "DXpt9w6zQcyp",
        "outputId": "f2725311-b50a-42dd-cd4f-5fc85e179dce"
      },
      "execution_count": null,
      "outputs": [
        {
          "output_type": "stream",
          "name": "stdout",
          "text": [
            "NOT NORMALIZED k=15\n",
            "MSE:  0.5325694444444444\n",
            "r2:  0.14874014874014874\n"
          ]
        }
      ]
    },
    {
      "cell_type": "code",
      "source": [
        "from sklearn import neighbors\n",
        "# create our model\n",
        "neigh = neighbors.KNeighborsRegressor(n_neighbors=15) ### Don't miss this! Doing Regression here!!\n",
        "\n",
        "# fit (train) the model to the data\n",
        "neigh.fit(train_data_normalized, train_sln)\n",
        "\n",
        "# use the trained model to get predictions from our test_data\n",
        "predictions = neigh.predict(test_data_normalized)\n",
        "\n",
        "print(\"NORMALIZED k = 15\")\n",
        "# use a metric to see how good our predictions are; Don't miss this! Using Regression metrics here!!\n",
        "print('MSE: ', metrics.mean_squared_error(test_sln, predictions))\n",
        "print('r2: ', metrics.r2_score(test_sln, predictions))"
      ],
      "metadata": {
        "colab": {
          "base_uri": "https://localhost:8080/",
          "height": 381
        },
        "id": "d2T3nPG-QvIi",
        "outputId": "306541f5-a134-4aab-8935-8c2c010593a2"
      },
      "execution_count": null,
      "outputs": [
        {
          "output_type": "error",
          "ename": "ValueError",
          "evalue": "ignored",
          "traceback": [
            "\u001b[0;31m---------------------------------------------------------------------------\u001b[0m",
            "\u001b[0;31mValueError\u001b[0m                                Traceback (most recent call last)",
            "\u001b[0;32m<ipython-input-50-f6c5d40f09a9>\u001b[0m in \u001b[0;36m<module>\u001b[0;34m\u001b[0m\n\u001b[1;32m      4\u001b[0m \u001b[0;34m\u001b[0m\u001b[0m\n\u001b[1;32m      5\u001b[0m \u001b[0;31m# fit (train) the model to the data\u001b[0m\u001b[0;34m\u001b[0m\u001b[0;34m\u001b[0m\u001b[0;34m\u001b[0m\u001b[0m\n\u001b[0;32m----> 6\u001b[0;31m \u001b[0mneigh\u001b[0m\u001b[0;34m.\u001b[0m\u001b[0mfit\u001b[0m\u001b[0;34m(\u001b[0m\u001b[0mtrain_data_normalized\u001b[0m\u001b[0;34m,\u001b[0m \u001b[0mtrain_sln\u001b[0m\u001b[0;34m)\u001b[0m\u001b[0;34m\u001b[0m\u001b[0;34m\u001b[0m\u001b[0m\n\u001b[0m\u001b[1;32m      7\u001b[0m \u001b[0;34m\u001b[0m\u001b[0m\n\u001b[1;32m      8\u001b[0m \u001b[0;31m# use the trained model to get predictions from our test_data\u001b[0m\u001b[0;34m\u001b[0m\u001b[0;34m\u001b[0m\u001b[0;34m\u001b[0m\u001b[0m\n",
            "\u001b[0;32m/usr/local/lib/python3.7/dist-packages/sklearn/neighbors/_regression.py\u001b[0m in \u001b[0;36mfit\u001b[0;34m(self, X, y)\u001b[0m\n\u001b[1;32m    211\u001b[0m         \u001b[0mself\u001b[0m\u001b[0;34m.\u001b[0m\u001b[0mweights\u001b[0m \u001b[0;34m=\u001b[0m \u001b[0m_check_weights\u001b[0m\u001b[0;34m(\u001b[0m\u001b[0mself\u001b[0m\u001b[0;34m.\u001b[0m\u001b[0mweights\u001b[0m\u001b[0;34m)\u001b[0m\u001b[0;34m\u001b[0m\u001b[0;34m\u001b[0m\u001b[0m\n\u001b[1;32m    212\u001b[0m \u001b[0;34m\u001b[0m\u001b[0m\n\u001b[0;32m--> 213\u001b[0;31m         \u001b[0;32mreturn\u001b[0m \u001b[0mself\u001b[0m\u001b[0;34m.\u001b[0m\u001b[0m_fit\u001b[0m\u001b[0;34m(\u001b[0m\u001b[0mX\u001b[0m\u001b[0;34m,\u001b[0m \u001b[0my\u001b[0m\u001b[0;34m)\u001b[0m\u001b[0;34m\u001b[0m\u001b[0;34m\u001b[0m\u001b[0m\n\u001b[0m\u001b[1;32m    214\u001b[0m \u001b[0;34m\u001b[0m\u001b[0m\n\u001b[1;32m    215\u001b[0m     \u001b[0;32mdef\u001b[0m \u001b[0mpredict\u001b[0m\u001b[0;34m(\u001b[0m\u001b[0mself\u001b[0m\u001b[0;34m,\u001b[0m \u001b[0mX\u001b[0m\u001b[0;34m)\u001b[0m\u001b[0;34m:\u001b[0m\u001b[0;34m\u001b[0m\u001b[0;34m\u001b[0m\u001b[0m\n",
            "\u001b[0;32m/usr/local/lib/python3.7/dist-packages/sklearn/neighbors/_base.py\u001b[0m in \u001b[0;36m_fit\u001b[0;34m(self, X, y)\u001b[0m\n\u001b[1;32m    398\u001b[0m         \u001b[0;32mif\u001b[0m \u001b[0mself\u001b[0m\u001b[0;34m.\u001b[0m\u001b[0m_get_tags\u001b[0m\u001b[0;34m(\u001b[0m\u001b[0;34m)\u001b[0m\u001b[0;34m[\u001b[0m\u001b[0;34m\"requires_y\"\u001b[0m\u001b[0;34m]\u001b[0m\u001b[0;34m:\u001b[0m\u001b[0;34m\u001b[0m\u001b[0;34m\u001b[0m\u001b[0m\n\u001b[1;32m    399\u001b[0m             \u001b[0;32mif\u001b[0m \u001b[0;32mnot\u001b[0m \u001b[0misinstance\u001b[0m\u001b[0;34m(\u001b[0m\u001b[0mX\u001b[0m\u001b[0;34m,\u001b[0m \u001b[0;34m(\u001b[0m\u001b[0mKDTree\u001b[0m\u001b[0;34m,\u001b[0m \u001b[0mBallTree\u001b[0m\u001b[0;34m,\u001b[0m \u001b[0mNeighborsBase\u001b[0m\u001b[0;34m)\u001b[0m\u001b[0;34m)\u001b[0m\u001b[0;34m:\u001b[0m\u001b[0;34m\u001b[0m\u001b[0;34m\u001b[0m\u001b[0m\n\u001b[0;32m--> 400\u001b[0;31m                 \u001b[0mX\u001b[0m\u001b[0;34m,\u001b[0m \u001b[0my\u001b[0m \u001b[0;34m=\u001b[0m \u001b[0mself\u001b[0m\u001b[0;34m.\u001b[0m\u001b[0m_validate_data\u001b[0m\u001b[0;34m(\u001b[0m\u001b[0mX\u001b[0m\u001b[0;34m,\u001b[0m \u001b[0my\u001b[0m\u001b[0;34m,\u001b[0m \u001b[0maccept_sparse\u001b[0m\u001b[0;34m=\u001b[0m\u001b[0;34m\"csr\"\u001b[0m\u001b[0;34m,\u001b[0m \u001b[0mmulti_output\u001b[0m\u001b[0;34m=\u001b[0m\u001b[0;32mTrue\u001b[0m\u001b[0;34m)\u001b[0m\u001b[0;34m\u001b[0m\u001b[0;34m\u001b[0m\u001b[0m\n\u001b[0m\u001b[1;32m    401\u001b[0m \u001b[0;34m\u001b[0m\u001b[0m\n\u001b[1;32m    402\u001b[0m             \u001b[0;32mif\u001b[0m \u001b[0mis_classifier\u001b[0m\u001b[0;34m(\u001b[0m\u001b[0mself\u001b[0m\u001b[0;34m)\u001b[0m\u001b[0;34m:\u001b[0m\u001b[0;34m\u001b[0m\u001b[0;34m\u001b[0m\u001b[0m\n",
            "\u001b[0;32m/usr/local/lib/python3.7/dist-packages/sklearn/base.py\u001b[0m in \u001b[0;36m_validate_data\u001b[0;34m(self, X, y, reset, validate_separately, **check_params)\u001b[0m\n\u001b[1;32m    579\u001b[0m                 \u001b[0my\u001b[0m \u001b[0;34m=\u001b[0m \u001b[0mcheck_array\u001b[0m\u001b[0;34m(\u001b[0m\u001b[0my\u001b[0m\u001b[0;34m,\u001b[0m \u001b[0;34m**\u001b[0m\u001b[0mcheck_y_params\u001b[0m\u001b[0;34m)\u001b[0m\u001b[0;34m\u001b[0m\u001b[0;34m\u001b[0m\u001b[0m\n\u001b[1;32m    580\u001b[0m             \u001b[0;32melse\u001b[0m\u001b[0;34m:\u001b[0m\u001b[0;34m\u001b[0m\u001b[0;34m\u001b[0m\u001b[0m\n\u001b[0;32m--> 581\u001b[0;31m                 \u001b[0mX\u001b[0m\u001b[0;34m,\u001b[0m \u001b[0my\u001b[0m \u001b[0;34m=\u001b[0m \u001b[0mcheck_X_y\u001b[0m\u001b[0;34m(\u001b[0m\u001b[0mX\u001b[0m\u001b[0;34m,\u001b[0m \u001b[0my\u001b[0m\u001b[0;34m,\u001b[0m \u001b[0;34m**\u001b[0m\u001b[0mcheck_params\u001b[0m\u001b[0;34m)\u001b[0m\u001b[0;34m\u001b[0m\u001b[0;34m\u001b[0m\u001b[0m\n\u001b[0m\u001b[1;32m    582\u001b[0m             \u001b[0mout\u001b[0m \u001b[0;34m=\u001b[0m \u001b[0mX\u001b[0m\u001b[0;34m,\u001b[0m \u001b[0my\u001b[0m\u001b[0;34m\u001b[0m\u001b[0;34m\u001b[0m\u001b[0m\n\u001b[1;32m    583\u001b[0m \u001b[0;34m\u001b[0m\u001b[0m\n",
            "\u001b[0;32m/usr/local/lib/python3.7/dist-packages/sklearn/utils/validation.py\u001b[0m in \u001b[0;36mcheck_X_y\u001b[0;34m(X, y, accept_sparse, accept_large_sparse, dtype, order, copy, force_all_finite, ensure_2d, allow_nd, multi_output, ensure_min_samples, ensure_min_features, y_numeric, estimator)\u001b[0m\n\u001b[1;32m    979\u001b[0m     \u001b[0my\u001b[0m \u001b[0;34m=\u001b[0m \u001b[0m_check_y\u001b[0m\u001b[0;34m(\u001b[0m\u001b[0my\u001b[0m\u001b[0;34m,\u001b[0m \u001b[0mmulti_output\u001b[0m\u001b[0;34m=\u001b[0m\u001b[0mmulti_output\u001b[0m\u001b[0;34m,\u001b[0m \u001b[0my_numeric\u001b[0m\u001b[0;34m=\u001b[0m\u001b[0my_numeric\u001b[0m\u001b[0;34m)\u001b[0m\u001b[0;34m\u001b[0m\u001b[0;34m\u001b[0m\u001b[0m\n\u001b[1;32m    980\u001b[0m \u001b[0;34m\u001b[0m\u001b[0m\n\u001b[0;32m--> 981\u001b[0;31m     \u001b[0mcheck_consistent_length\u001b[0m\u001b[0;34m(\u001b[0m\u001b[0mX\u001b[0m\u001b[0;34m,\u001b[0m \u001b[0my\u001b[0m\u001b[0;34m)\u001b[0m\u001b[0;34m\u001b[0m\u001b[0;34m\u001b[0m\u001b[0m\n\u001b[0m\u001b[1;32m    982\u001b[0m \u001b[0;34m\u001b[0m\u001b[0m\n\u001b[1;32m    983\u001b[0m     \u001b[0;32mreturn\u001b[0m \u001b[0mX\u001b[0m\u001b[0;34m,\u001b[0m \u001b[0my\u001b[0m\u001b[0;34m\u001b[0m\u001b[0;34m\u001b[0m\u001b[0m\n",
            "\u001b[0;32m/usr/local/lib/python3.7/dist-packages/sklearn/utils/validation.py\u001b[0m in \u001b[0;36mcheck_consistent_length\u001b[0;34m(*arrays)\u001b[0m\n\u001b[1;32m    332\u001b[0m         raise ValueError(\n\u001b[1;32m    333\u001b[0m             \u001b[0;34m\"Found input variables with inconsistent numbers of samples: %r\"\u001b[0m\u001b[0;34m\u001b[0m\u001b[0;34m\u001b[0m\u001b[0m\n\u001b[0;32m--> 334\u001b[0;31m             \u001b[0;34m%\u001b[0m \u001b[0;34m[\u001b[0m\u001b[0mint\u001b[0m\u001b[0;34m(\u001b[0m\u001b[0ml\u001b[0m\u001b[0;34m)\u001b[0m \u001b[0;32mfor\u001b[0m \u001b[0ml\u001b[0m \u001b[0;32min\u001b[0m \u001b[0mlengths\u001b[0m\u001b[0;34m]\u001b[0m\u001b[0;34m\u001b[0m\u001b[0;34m\u001b[0m\u001b[0m\n\u001b[0m\u001b[1;32m    335\u001b[0m         )\n\u001b[1;32m    336\u001b[0m \u001b[0;34m\u001b[0m\u001b[0m\n",
            "\u001b[0;31mValueError\u001b[0m: Found input variables with inconsistent numbers of samples: [1279, 120]"
          ]
        }
      ]
    },
    {
      "cell_type": "markdown",
      "source": [
        "## Exercise #2B\n",
        "Create a graph with k values on the x-axis and R^2 values on the y-axis..."
      ],
      "metadata": {
        "id": "bBZ3v5jhju1c"
      }
    },
    {
      "cell_type": "code",
      "source": [
        "import matplotlib.pyplot as plt\n",
        "%matplotlib inline\n",
        "\n",
        "k_vals = range(1,31,2)\n",
        "r2_vals = []\n",
        "\n",
        "for k in k_vals:\n",
        "    neigh = neighbors.KNeighborsRegressor(n_neighbors=k)\n",
        "    neigh.fit(train_data_normalized, train_sln)\n",
        "    predictions = neigh.predict(test_data_normalized)\n",
        "    r2_val = sklearn.metrics.r2_score(test_sln,predictions)\n",
        "    r2_vals.append(r2_val)\n",
        "\n",
        "plt.suptitle('R^2 Wine Data vs. k -- kNN Results',fontsize=18)\n",
        "plt.xlabel('k')\n",
        "plt.ylabel('r^2')\n",
        "plt.plot(k_vals,r2_vals,'ro-',label='r^2 values')\n",
        "plt.legend(loc='lower right', shadow=True)\n",
        "plt.axis([0,31,.3,.4])\n",
        "plt.show()"
      ],
      "metadata": {
        "colab": {
          "base_uri": "https://localhost:8080/",
          "height": 308
        },
        "id": "x-Jyzy2NjyUk",
        "outputId": "2393afae-42be-477f-e0a0-95f03be27e5e"
      },
      "execution_count": null,
      "outputs": [
        {
          "output_type": "display_data",
          "data": {
            "text/plain": [
              "<Figure size 432x288 with 1 Axes>"
            ],
            "image/png": "[encoded data removed]"
          },
          "metadata": {
            "needs_background": "light"
          }
        }
      ]
    },
    {
      "cell_type": "markdown",
      "source": [
        "## Exercise #3"
      ],
      "metadata": {
        "id": "KlwuR732ULdG"
      }
    },
    {
      "cell_type": "markdown",
      "source": [
        "Hypothesis #1: low values for the max depth a decision tree will cause low R^2 values. Increasing the max depth will increase the R^2 values; At a certain point, increasing the max depth will no longer have an effect on the R^2 values;"
      ],
      "metadata": {
        "id": "v3WhAaYBWGAE"
      }
    },
    {
      "cell_type": "code",
      "metadata": {
        "id": "9MbVV-gzHMeo",
        "colab": {
          "base_uri": "https://localhost:8080/",
          "height": 308
        },
        "outputId": "911194dd-ec35-4129-c404-8924676a3d55"
      },
      "source": [
        "import matplotlib.pyplot as plt\n",
        "%matplotlib inline\n",
        "\n",
        "max_depth_vals = range(1,31)\n",
        "r2_vals = []\n",
        "\n",
        "for max_depth_val in max_depth_vals:\n",
        "    dt = tree.DecisionTreeRegressor(random_state = 0, max_depth = max_depth_val)\n",
        "    dt.fit(train_data,train_sln)\n",
        "    predictions = dt.predict(test_data)\n",
        "    r2_val = sklearn.metrics.r2_score(test_sln,predictions)\n",
        "    r2_vals.append(r2_val)\n",
        "    \n",
        "plt.suptitle('R^2 Wine Data vs. max depth Decision Tree Results',fontsize=18)\n",
        "plt.xlabel('max depth')\n",
        "plt.ylabel('r^2')\n",
        "plt.plot(max_depth_vals,r2_vals,'ro-',label='r^2 values')\n",
        "plt.legend(loc='lower right', shadow=True)\n",
        "plt.axis([0,31,0,.4])\n",
        "plt.show()"
      ],
      "execution_count": null,
      "outputs": [
        {
          "output_type": "display_data",
          "data": {
            "text/plain": [
              "<Figure size 432x288 with 1 Axes>"
            ],
            "image/png": "[encoded data removed]"
          },
          "metadata": {
            "needs_background": "light"
          }
        }
      ]
    },
    {
      "cell_type": "markdown",
      "source": [
        "Hypothesis #2: normalization does not affect decision trees metrics\n"
      ],
      "metadata": {
        "id": "xPuhOQTpWU9_"
      }
    },
    {
      "cell_type": "code",
      "source": [
        "max_depth_vals = range(1,31)\n",
        "non_norm = []\n",
        "norm = []\n",
        "\n",
        "for max_depth_val in max_depth_vals:\n",
        "    dt = tree.DecisionTreeRegressor(random_state = 0, max_depth = max_depth_val)\n",
        "    dt.fit(train_data,train_sln)\n",
        "    predictions = dt.predict(test_data)\n",
        "    non_norm.append(metrics.r2_score(test_sln, predictions))\n",
        "\n",
        "    dt_norm = tree.DecisionTreeRegressor(random_state = 0, max_depth = max_depth_val)\n",
        "    dt_norm.fit(train_data_normalized,train_sln)\n",
        "    predictions_normalized = dt_norm.predict(test_data_normalized)\n",
        "    norm.append(metrics.r2_score( test_sln,predictions_normalized))\n",
        "    print(\"MSE:\",metrics.mean_squared_error( predictions,predictions_normalized ))\n",
        "\n",
        "plt.suptitle('Normalized & Non-Normalized Decision Trees R^2 vs max depth',fontsize=18)\n",
        "plt.xlabel('max depth')\n",
        "plt.ylabel('mse')\n",
        "plt.plot(max_depth_vals,non_norm,'ro-',label='non norm values')\n",
        "plt.plot(max_depth_vals,norm,'bo-',label='norm values')\n",
        "\n",
        "plt.legend(loc='lower right', shadow=True)\n",
        "plt.axis([0,31,-.05,.2])\n",
        "plt.show()"
      ],
      "metadata": {
        "colab": {
          "base_uri": "https://localhost:8080/",
          "height": 829
        },
        "id": "OxtezOw8WN96",
        "outputId": "6d7f4437-e39d-4420-f325-e5f9b834d32a"
      },
      "execution_count": null,
      "outputs": [
        {
          "output_type": "stream",
          "name": "stdout",
          "text": [
            "MSE: 0.0\n",
            "MSE: 0.0\n",
            "MSE: 0.0\n",
            "MSE: 0.0\n",
            "MSE: 0.0\n",
            "MSE: 0.0\n",
            "MSE: 0.0\n",
            "MSE: 0.0024199999999999994\n",
            "MSE: 0.003555555555555554\n",
            "MSE: 0.003125\n",
            "MSE: 0.0035526312264231837\n",
            "MSE: 0.025807507396449707\n",
            "MSE: 0.0374202806122449\n",
            "MSE: 0.028125\n",
            "MSE: 0.03125\n",
            "MSE: 0.034375\n",
            "MSE: 0.0375\n",
            "MSE: 0.034375\n",
            "MSE: 0.034375\n",
            "MSE: 0.034375\n",
            "MSE: 0.034375\n",
            "MSE: 0.034375\n",
            "MSE: 0.034375\n",
            "MSE: 0.034375\n",
            "MSE: 0.034375\n",
            "MSE: 0.034375\n",
            "MSE: 0.034375\n",
            "MSE: 0.034375\n",
            "MSE: 0.034375\n",
            "MSE: 0.034375\n"
          ]
        },
        {
          "output_type": "display_data",
          "data": {
            "text/plain": [
              "<Figure size 432x288 with 1 Axes>"
            ],
            "image/png": "[encoded data removed]"
          },
          "metadata": {
            "needs_background": "light"
          }
        }
      ]
    }
  ]
}