{
  "nbformat": 4,
  "nbformat_minor": 0,
  "metadata": {
    "colab": {
      "provenance": [],
      "collapsed_sections": [],
      "include_colab_link": true
    },
    "kernelspec": {
      "name": "python3",
      "display_name": "Python 3"
    },
    "language_info": {
      "name": "python"
    },
    "gpuClass": "standard"
  },
  "cells": [
    {
      "cell_type": "markdown",
      "metadata": {
        "id": "view-in-github",
        "colab_type": "text"
      },
      "source": [
        "<a href=\"https://colab.research.google.com/github/urness/CS167Fall22Code/blob/main/Day21_Notes_ANNs.ipynb\" target=\"_parent\"><img src=\"https://colab.research.google.com/assets/colab-badge.svg\" alt=\"Open In Colab\"/></a>"
      ]
    },
    {
      "cell_type": "markdown",
      "metadata": {
        "id": "-PSKyhdVBMBP"
      },
      "source": [
        "# Day 21 Code: Artificial Neural Networks\n",
        "\n",
        "We're going to start off by using sklearn MLP to implement a multilayer perceptron, and then we're going to use a deep learning framework, Tensorflow with Keras to build a neural network. "
      ]
    },
    {
      "cell_type": "code",
      "metadata": {
        "colab": {
          "base_uri": "https://localhost:8080/"
        },
        "id": "PlQnxuSxBGwV",
        "outputId": "36aae553-35a6-4eea-b8c2-f05194934d4d"
      },
      "source": [
        "from google.colab import drive\n",
        "import pandas\n",
        "drive.mount('/content/drive')"
      ],
      "execution_count": null,
      "outputs": [
        {
          "output_type": "stream",
          "name": "stdout",
          "text": [
            "Mounted at /content/drive\n"
          ]
        }
      ]
    },
    {
      "cell_type": "code",
      "metadata": {
        "id": "JYGVt9K5DcjG",
        "colab": {
          "base_uri": "https://localhost:8080/",
          "height": 206
        },
        "outputId": "91cb8bd4-bb7f-491a-9971-3b4a1fff8535"
      },
      "source": [
        "data = pandas.read_csv('/content/drive/MyDrive/CS167Fall22/Datasets/irisData.csv')\n",
        "data.head()"
      ],
      "execution_count": null,
      "outputs": [
        {
          "output_type": "execute_result",
          "data": {
            "text/plain": [
              "   sepal length  sepal width  petal length  petal width      species\n",
              "0           5.1          3.5           1.4          0.2  Iris-setosa\n",
              "1           4.9          3.0           1.4          0.2  Iris-setosa\n",
              "2           4.7          3.2           1.3          0.2  Iris-setosa\n",
              "3           4.6          3.1           1.5          0.2  Iris-setosa\n",
              "4           5.0          3.6           1.4          0.2  Iris-setosa"
            ],
            "text/html": [
              "\n",
              "  <div id=\"df-d6c18583-827e-4f3a-a67f-2a94631c3137\">\n",
              "    <div class=\"colab-df-container\">\n",
              "      <div>\n",
              "<style scoped>\n",
              "    .dataframe tbody tr th:only-of-type {\n",
              "        vertical-align: middle;\n",
              "    }\n",
              "\n",
              "    .dataframe tbody tr th {\n",
              "        vertical-align: top;\n",
              "    }\n",
              "\n",
              "    .dataframe thead th {\n",
              "        text-align: right;\n",
              "    }\n",
              "</style>\n",
              "<table border=\"1\" class=\"dataframe\">\n",
              "  <thead>\n",
              "    <tr style=\"text-align: right;\">\n",
              "      <th></th>\n",
              "      <th>sepal length</th>\n",
              "      <th>sepal width</th>\n",
              "      <th>petal length</th>\n",
              "      <th>petal width</th>\n",
              "      <th>species</th>\n",
              "    </tr>\n",
              "  </thead>\n",
              "  <tbody>\n",
              "    <tr>\n",
              "      <th>0</th>\n",
              "      <td>5.1</td>\n",
              "      <td>3.5</td>\n",
              "      <td>1.4</td>\n",
              "      <td>0.2</td>\n",
              "      <td>Iris-setosa</td>\n",
              "    </tr>\n",
              "    <tr>\n",
              "      <th>1</th>\n",
              "      <td>4.9</td>\n",
              "      <td>3.0</td>\n",
              "      <td>1.4</td>\n",
              "      <td>0.2</td>\n",
              "      <td>Iris-setosa</td>\n",
              "    </tr>\n",
              "    <tr>\n",
              "      <th>2</th>\n",
              "      <td>4.7</td>\n",
              "      <td>3.2</td>\n",
              "      <td>1.3</td>\n",
              "      <td>0.2</td>\n",
              "      <td>Iris-setosa</td>\n",
              "    </tr>\n",
              "    <tr>\n",
              "      <th>3</th>\n",
              "      <td>4.6</td>\n",
              "      <td>3.1</td>\n",
              "      <td>1.5</td>\n",
              "      <td>0.2</td>\n",
              "      <td>Iris-setosa</td>\n",
              "    </tr>\n",
              "    <tr>\n",
              "      <th>4</th>\n",
              "      <td>5.0</td>\n",
              "      <td>3.6</td>\n",
              "      <td>1.4</td>\n",
              "      <td>0.2</td>\n",
              "      <td>Iris-setosa</td>\n",
              "    </tr>\n",
              "  </tbody>\n",
              "</table>\n",
              "</div>\n",
              "      <button class=\"colab-df-convert\" onclick=\"convertToInteractive('df-d6c18583-827e-4f3a-a67f-2a94631c3137')\"\n",
              "              title=\"Convert this dataframe to an interactive table.\"\n",
              "              style=\"display:none;\">\n",
              "        \n",
              "  <svg xmlns=\"http://www.w3.org/2000/svg\" height=\"24px\"viewBox=\"0 0 24 24\"\n",
              "       width=\"24px\">\n",
              "    <path d=\"M0 0h24v24H0V0z\" fill=\"none\"/>\n",
              "    <path d=\"M18.56 5.44l.94 2.06.94-2.06 2.06-.94-2.06-.94-.94-2.06-.94 2.06-2.06.94zm-11 1L8.5 8.5l.94-2.06 2.06-.94-2.06-.94L8.5 2.5l-.94 2.06-2.06.94zm10 10l.94 2.06.94-2.06 2.06-.94-2.06-.94-.94-2.06-.94 2.06-2.06.94z\"/><path d=\"M17.41 7.96l-1.37-1.37c-.4-.4-.92-.59-1.43-.59-.52 0-1.04.2-1.43.59L10.3 9.45l-7.72 7.72c-.78.78-.78 2.05 0 2.83L4 21.41c.39.39.9.59 1.41.59.51 0 1.02-.2 1.41-.59l7.78-7.78 2.81-2.81c.8-.78.8-2.07 0-2.86zM5.41 20L4 18.59l7.72-7.72 1.47 1.35L5.41 20z\"/>\n",
              "  </svg>\n",
              "      </button>\n",
              "      \n",
              "  <style>\n",
              "    .colab-df-container {\n",
              "      display:flex;\n",
              "      flex-wrap:wrap;\n",
              "      gap: 12px;\n",
              "    }\n",
              "\n",
              "    .colab-df-convert {\n",
              "      background-color: #E8F0FE;\n",
              "      border: none;\n",
              "      border-radius: 50%;\n",
              "      cursor: pointer;\n",
              "      display: none;\n",
              "      fill: #1967D2;\n",
              "      height: 32px;\n",
              "      padding: 0 0 0 0;\n",
              "      width: 32px;\n",
              "    }\n",
              "\n",
              "    .colab-df-convert:hover {\n",
              "      background-color: #E2EBFA;\n",
              "      box-shadow: 0px 1px 2px rgba(60, 64, 67, 0.3), 0px 1px 3px 1px rgba(60, 64, 67, 0.15);\n",
              "      fill: #174EA6;\n",
              "    }\n",
              "\n",
              "    [theme=dark] .colab-df-convert {\n",
              "      background-color: #3B4455;\n",
              "      fill: #D2E3FC;\n",
              "    }\n",
              "\n",
              "    [theme=dark] .colab-df-convert:hover {\n",
              "      background-color: #434B5C;\n",
              "      box-shadow: 0px 1px 3px 1px rgba(0, 0, 0, 0.15);\n",
              "      filter: drop-shadow(0px 1px 2px rgba(0, 0, 0, 0.3));\n",
              "      fill: #FFFFFF;\n",
              "    }\n",
              "  </style>\n",
              "\n",
              "      <script>\n",
              "        const buttonEl =\n",
              "          document.querySelector('#df-d6c18583-827e-4f3a-a67f-2a94631c3137 button.colab-df-convert');\n",
              "        buttonEl.style.display =\n",
              "          google.colab.kernel.accessAllowed ? 'block' : 'none';\n",
              "\n",
              "        async function convertToInteractive(key) {\n",
              "          const element = document.querySelector('#df-d6c18583-827e-4f3a-a67f-2a94631c3137');\n",
              "          const dataTable =\n",
              "            await google.colab.kernel.invokeFunction('convertToInteractive',\n",
              "                                                     [key], {});\n",
              "          if (!dataTable) return;\n",
              "\n",
              "          const docLinkHtml = 'Like what you see? Visit the ' +\n",
              "            '<a target=\"_blank\" href=https://colab.research.google.com/notebooks/data_table.ipynb>data table notebook</a>'\n",
              "            + ' to learn more about interactive tables.';\n",
              "          element.innerHTML = '';\n",
              "          dataTable['output_type'] = 'display_data';\n",
              "          await google.colab.output.renderOutput(dataTable, element);\n",
              "          const docLink = document.createElement('div');\n",
              "          docLink.innerHTML = docLinkHtml;\n",
              "          element.appendChild(docLink);\n",
              "        }\n",
              "      </script>\n",
              "    </div>\n",
              "  </div>\n",
              "  "
            ]
          },
          "metadata": {},
          "execution_count": 7
        }
      ]
    },
    {
      "cell_type": "code",
      "metadata": {
        "id": "IPcbE8vaBLJW"
      },
      "source": [
        "import pandas\n",
        "import numpy\n",
        "from sklearn.model_selection import train_test_split\n",
        "\n",
        "#Split the dataset\n",
        "predictors = data.columns.drop('species')\n",
        "target = \"species\"\n",
        "train_data, test_data, train_sln, test_sln = train_test_split(data[predictors], data[target], test_size = 0.2, random_state=41)\n",
        "\n",
        "#Normalize Data\n",
        "from sklearn.preprocessing import StandardScaler\n",
        "scaler = StandardScaler()\n",
        "scaler.fit(train_data)\n",
        "train_data_norm = scaler.transform(train_data)\n",
        "test_data_norm = scaler.transform(test_data)\n"
      ],
      "execution_count": null,
      "outputs": []
    },
    {
      "cell_type": "markdown",
      "metadata": {
        "id": "fOm5Qh1_BzVx"
      },
      "source": [
        "## Build out a Multilayer Perceptron using Scikit-Learn:\n",
        "Here are the links to the documentation: \n",
        "- [sklearn.neural_network.MLPRegressor](https://scikit-learn.org/stable/modules/generated/sklearn.neural_network.MLPRegressor.html)\n",
        "- [sklearn.neural_network.MLPClassifier](https://scikit-learn.org/stable/modules/generated/sklearn.neural_network.MLPClassifier.html)\n"
      ]
    },
    {
      "cell_type": "code",
      "metadata": {
        "id": "u63K8A1mBhOS",
        "colab": {
          "base_uri": "https://localhost:8080/"
        },
        "outputId": "e2c1a208-4798-4e67-b7e6-879bb27b6f91"
      },
      "source": [
        "# Set up MLP\n",
        "from sklearn.neural_network import MLPClassifier\n",
        "from sklearn import metrics\n",
        "from sklearn.metrics import confusion_matrix\n",
        "\n",
        "mlp = MLPClassifier(random_state=0,hidden_layer_sizes = (100,), max_iter = 800)\n",
        "mlp.fit(train_data_norm,train_sln)\n",
        "predictions = mlp.predict(test_data_norm)\n",
        "\n",
        "print(\"Accuracy: \", metrics.accuracy_score(test_sln,predictions))\n",
        "\n",
        "# Confusion Matrix\n",
        "vals = data[target].unique() ## possible classification values (species)\n",
        "conf_mat = metrics.confusion_matrix(test_sln, predictions, labels=vals)\n",
        "print(pandas.DataFrame(conf_mat, index = \"True \" + vals, columns = \"Pre \" + vals))"
      ],
      "execution_count": null,
      "outputs": [
        {
          "output_type": "stream",
          "name": "stdout",
          "text": [
            "Accuracy:  0.9\n",
            "                      Pre Iris-setosa  Pre Iris-versicolor  Pre Iris-virginica\n",
            "True Iris-setosa                    8                    1                   0\n",
            "True Iris-versicolor                0                   10                   1\n",
            "True Iris-virginica                 0                    1                   9\n"
          ]
        }
      ]
    },
    {
      "cell_type": "markdown",
      "metadata": {
        "id": "o7QVdyQfDLqZ"
      },
      "source": [
        "## In-Class Exercise:\n",
        "\n",
        "1. Read in the Boston Housing dataset\n",
        "2. Normalize your data\n",
        "3. Use a [MLPRegressor](https://scikit-learn.org/stable/modules/generated/sklearn.neural_network.MLPRegressor.html) to predict the price of a house 'MEDV'\n",
        "4. Play around with changing the parameters, see what the best R2 score you can get is. \n"
      ]
    },
    {
      "cell_type": "code",
      "metadata": {
        "id": "uR0BTwTgBucW"
      },
      "source": [
        "# Your code goes here for the In-Class Exercise\n",
        "# 1. Read in the Boston Housing dataset\n",
        "import pandas\n",
        "housing_data = pandas.read_csv('/content/drive/MyDrive/CS167Fall22/Datasets/HousingData.csv') \n",
        "\n",
        "# clean the data\n",
        "housing_data['CRIM'].fillna(housing_data['CRIM'].mean(),inplace=True)\n",
        "housing_data['ZN'].fillna(housing_data['ZN'].mean(),inplace=True)\n",
        "housing_data['INDUS'].fillna(housing_data['INDUS'].mean(),inplace=True)\n",
        "housing_data['CHAS'].fillna(housing_data['CHAS'].mean(),inplace=True)\n",
        "housing_data['AGE'].fillna(housing_data['AGE'].mean(),inplace=True)\n",
        "housing_data['LSTAT'].fillna(housing_data['LSTAT'].mean(),inplace=True)\n",
        "\n",
        "#Split the dataset\n",
        "predictors = housing_data.columns.drop('MEDV')\n",
        "target = \"MEDV\"\n",
        "train_data, test_data, train_sln, test_sln = train_test_split(housing_data[predictors], housing_data[target], test_size = 0.2, random_state=0)\n",
        "\n"
      ],
      "execution_count": null,
      "outputs": []
    },
    {
      "cell_type": "code",
      "source": [
        "#2. Normalize the data\n",
        "from sklearn.preprocessing import StandardScaler\n",
        "scaler = StandardScaler()\n",
        "scaler.fit(train_data)\n",
        "train_data_normalized = scaler.transform(train_data)\n",
        "test_data_normalized = scaler.transform(test_data)"
      ],
      "metadata": {
        "id": "vK2oOmSWwACn"
      },
      "execution_count": null,
      "outputs": []
    },
    {
      "cell_type": "code",
      "source": [
        "#3. Use a MLPRegressor to predict the price of a house 'MEDV'\n",
        "from sklearn.neural_network import MLPRegressor\n",
        "from sklearn import metrics\n",
        "\n",
        "mlp = MLPRegressor(random_state=0)\n",
        "mlp.fit(train_data_normalized,train_sln)\n",
        "predictions = mlp.predict(test_data_normalized)\n",
        "\n",
        "print(\"MLP Regression R2:\", metrics.r2_score(test_sln, predictions))\n"
      ],
      "metadata": {
        "colab": {
          "base_uri": "https://localhost:8080/"
        },
        "id": "_SfZHnGRwK8N",
        "outputId": "2aae4891-6648-4b00-8cf5-92fb5fd41dd8"
      },
      "execution_count": null,
      "outputs": [
        {
          "output_type": "stream",
          "name": "stdout",
          "text": [
            "MLP Regression R2: 0.49660446847147843\n"
          ]
        },
        {
          "output_type": "stream",
          "name": "stderr",
          "text": [
            "/usr/local/lib/python3.7/dist-packages/sklearn/neural_network/_multilayer_perceptron.py:696: ConvergenceWarning: Stochastic Optimizer: Maximum iterations (200) reached and the optimization hasn't converged yet.\n",
            "  ConvergenceWarning,\n"
          ]
        }
      ]
    },
    {
      "cell_type": "code",
      "source": [
        "#4. Play around with the parameters\n",
        "####### delete for student code\n",
        "mlp = MLPRegressor(random_state=0,hidden_layer_sizes = (70,),activation='relu', max_iter = 800)\n",
        "mlp.fit(train_data_normalized,train_sln)\n",
        "predictions = mlp.predict(test_data_normalized)\n",
        "\n",
        "print(\"MLP Regression R2:\", metrics.r2_score(test_sln, predictions))"
      ],
      "metadata": {
        "colab": {
          "base_uri": "https://localhost:8080/"
        },
        "id": "dx1E-7_1xL6u",
        "outputId": "b57e6443-1551-4344-f6f7-6844bc32ef01"
      },
      "execution_count": null,
      "outputs": [
        {
          "output_type": "stream",
          "name": "stdout",
          "text": [
            "MLP Regression R2: 0.679000426649371\n"
          ]
        }
      ]
    },
    {
      "cell_type": "markdown",
      "metadata": {
        "id": "QaB9j0ZcdaDd"
      },
      "source": [
        "# Introducing Deep Learning Frameworks\n",
        "\n",
        "Go ahead and go up to 'Runtime', and select 'change runtime type' from the dropdown list, select 'GPU'. If you complete this step correctly, the following code should say `Found GPU at: /device:GPU:0` or something similar."
      ]
    },
    {
      "cell_type": "code",
      "metadata": {
        "colab": {
          "base_uri": "https://localhost:8080/"
        },
        "id": "oVu_afildpIY",
        "outputId": "3e4f3268-2037-4323-f453-4076e212f3ab"
      },
      "source": [
        "import tensorflow as tf\n",
        "device_name = tf.test.gpu_device_name()\n",
        "if device_name != '/device:GPU:0':\n",
        "  raise SystemError('GPU device not found')\n",
        "print('Found GPU at: {}'.format(device_name))"
      ],
      "execution_count": null,
      "outputs": [
        {
          "output_type": "stream",
          "name": "stdout",
          "text": [
            "Found GPU at: /device:GPU:0\n"
          ]
        }
      ]
    },
    {
      "cell_type": "markdown",
      "metadata": {
        "id": "1bA6K3nymJsg"
      },
      "source": [
        "# Iris Dataset with Keras"
      ]
    },
    {
      "cell_type": "code",
      "metadata": {
        "id": "kogXVGmkmMNj"
      },
      "source": [
        "import warnings\n",
        "warnings.simplefilter(action='ignore', category=FutureWarning)\n",
        "warnings.simplefilter(action='ignore', category=DeprecationWarning)\n",
        "\n",
        "from keras.models import Sequential\n",
        "from keras.layers import Dense\n",
        "\n",
        "from sklearn.datasets import load_iris\n",
        "from sklearn.model_selection import train_test_split\n",
        "from sklearn.preprocessing import OneHotEncoder, StandardScaler\n",
        "import numpy\n",
        "\n",
        "# we're going to use the iris dataset, but load it from sklearn \n",
        "iris = load_iris()\n",
        "X = iris['data']\n",
        "y = iris['target']\n",
        "names = iris['target_names']\n",
        "feature_names = iris['feature_names']\n",
        "\n",
        "# One hot encoding\n",
        "enc = OneHotEncoder()\n",
        "Y = enc.fit_transform(y[:, numpy.newaxis]).toarray()\n",
        "\n",
        "# Split the data set into training and testing\n",
        "X_train, X_test, Y_train, Y_test = train_test_split(X, Y, test_size=0.2, random_state=2)\n",
        "\n",
        "#normalize the data\n",
        "scaler = StandardScaler()\n",
        "scaler.fit(X_train)\n",
        "X_train_norm = scaler.transform(X_train)\n",
        "X_test_norm = scaler.transform(X_test)\n",
        "\n"
      ],
      "execution_count": null,
      "outputs": []
    },
    {
      "cell_type": "code",
      "source": [
        "#what is iris?\n",
        "iris;"
      ],
      "metadata": {
        "id": "5e8ExWsEW3n-"
      },
      "execution_count": null,
      "outputs": []
    },
    {
      "cell_type": "code",
      "source": [
        "# display a row of data\n",
        "print(X_train_norm[0,:])\n",
        "print(Y_train[0,:])"
      ],
      "metadata": {
        "colab": {
          "base_uri": "https://localhost:8080/"
        },
        "id": "WFCzV9zNVgs_",
        "outputId": "3b1a24a7-a4f8-4d49-c041-845120d9a19d"
      },
      "execution_count": null,
      "outputs": [
        {
          "output_type": "stream",
          "name": "stdout",
          "text": [
            "[ 0.37346331 -0.58519388  0.54075378  0.74234434]\n",
            "[0. 0. 1.]\n"
          ]
        }
      ]
    },
    {
      "cell_type": "code",
      "metadata": {
        "id": "pfvZyvC5ombh",
        "colab": {
          "base_uri": "https://localhost:8080/"
        },
        "outputId": "53cfe801-dabc-47c3-c466-7b87aae57727"
      },
      "source": [
        "#build our neural network model\n",
        "n_features = X.shape[1] #X generally stands for our predictors\n",
        "n_classes = Y.shape[1] #Y generally stands for our target\n",
        "\n",
        "model = Sequential(name='iris_1')\n",
        "model.add(Dense(2, input_dim=n_features, activation='relu'))\n",
        "model.add(Dense(2, activation='relu'))\n",
        "model.add(Dense(n_classes, activation='softmax'))\n",
        "\n",
        "from sklearn.metrics import r2_score\n",
        "\n",
        "# Compile model\n",
        "model.compile(loss='mean_squared_error',\n",
        "              optimizer='sgd', \n",
        "              metrics=['accuracy'])\n",
        "model.summary()"
      ],
      "execution_count": null,
      "outputs": [
        {
          "output_type": "stream",
          "name": "stdout",
          "text": [
            "Model: \"iris_1\"\n",
            "_________________________________________________________________\n",
            " Layer (type)                Output Shape              Param #   \n",
            "=================================================================\n",
            " dense_12 (Dense)            (None, 2)                 10        \n",
            "                                                                 \n",
            " dense_13 (Dense)            (None, 2)                 6         \n",
            "                                                                 \n",
            " dense_14 (Dense)            (None, 3)                 9         \n",
            "                                                                 \n",
            "=================================================================\n",
            "Total params: 25\n",
            "Trainable params: 25\n",
            "Non-trainable params: 0\n",
            "_________________________________________________________________\n"
          ]
        }
      ]
    },
    {
      "cell_type": "markdown",
      "source": [
        "[Keras Model Training APIs](https://keras.io/api/models/model_training_apis/)\n"
      ],
      "metadata": {
        "id": "ejpdgUFBE9oq"
      }
    },
    {
      "cell_type": "code",
      "metadata": {
        "colab": {
          "base_uri": "https://localhost:8080/"
        },
        "id": "n2RSJESIoH4G",
        "outputId": "b0e7768c-fce6-4825-b196-2f84ae8d3ac7"
      },
      "source": [
        "# train the model\n",
        "model.fit(X_train_norm, Y_train, batch_size=15, epochs=5) #add verbose = 0 to make output minimal\n",
        "\n",
        "# cross-validation; make predictions and get error\n",
        "print(\"----\"*30)\n",
        "mse, acc =  model.evaluate(X_test_norm, Y_test)\n",
        "print('Mean Squared Error:',mse)\n",
        "print('Test accuracy:', acc)\n",
        "\n"
      ],
      "execution_count": null,
      "outputs": [
        {
          "output_type": "stream",
          "name": "stdout",
          "text": [
            "Epoch 1/5\n",
            "8/8 [==============================] - 0s 4ms/step - loss: 0.2388 - accuracy: 0.3500\n",
            "Epoch 2/5\n",
            "8/8 [==============================] - 0s 3ms/step - loss: 0.2356 - accuracy: 0.3500\n",
            "Epoch 3/5\n",
            "8/8 [==============================] - 0s 3ms/step - loss: 0.2326 - accuracy: 0.3500\n",
            "Epoch 4/5\n",
            "8/8 [==============================] - 0s 5ms/step - loss: 0.2298 - accuracy: 0.3500\n",
            "Epoch 5/5\n",
            "8/8 [==============================] - 0s 3ms/step - loss: 0.2271 - accuracy: 0.3500\n",
            "------------------------------------------------------------------------------------------------------------------------\n",
            "1/1 [==============================] - 0s 26ms/step - loss: 0.2252 - accuracy: 0.2667\n",
            "Mean Squared Error: 0.22522403299808502\n",
            "Test accuracy: 0.2666666805744171\n"
          ]
        }
      ]
    },
    {
      "cell_type": "markdown",
      "metadata": {
        "id": "FW_tE14Sl8Gy"
      },
      "source": [
        "# Boston Housing Dataset with Keras\n"
      ]
    },
    {
      "cell_type": "code",
      "source": [
        "from keras.datasets import boston_housing\n",
        "\n",
        "# we're going to use the Bosting housing dataset, but load it from keras \n",
        "housing_data = boston_housing.load_data(test_split=0.2) #it comes with it's own test/train split :) \n",
        "(X_train, Y_train), (X_test, Y_test) = housing_data\n"
      ],
      "metadata": {
        "id": "4byOaffnNQ08"
      },
      "execution_count": null,
      "outputs": []
    },
    {
      "cell_type": "code",
      "source": [
        "# normalize the data\n",
        "scaler = StandardScaler()\n",
        "scaler.fit(X_train)\n",
        "X_train_norm = scaler.transform(X_train)\n",
        "X_test_norm = scaler.transform(X_test)"
      ],
      "metadata": {
        "id": "zbqCzfmLPl8z"
      },
      "execution_count": null,
      "outputs": []
    },
    {
      "cell_type": "code",
      "source": [
        "### need to execute this to get access to RSquare function\n",
        "!pip install tensorflow_addons"
      ],
      "metadata": {
        "colab": {
          "base_uri": "https://localhost:8080/"
        },
        "id": "3_Uw2wAJgaN3",
        "outputId": "5769a372-7536-4e95-e817-8bdc3a4cbc26"
      },
      "execution_count": null,
      "outputs": [
        {
          "output_type": "stream",
          "name": "stdout",
          "text": [
            "Looking in indexes: https://pypi.org/simple, https://us-python.pkg.dev/colab-wheels/public/simple/\n",
            "Collecting tensorflow_addons\n",
            "  Downloading tensorflow_addons-0.18.0-cp37-cp37m-manylinux_2_17_x86_64.manylinux2014_x86_64.whl (1.1 MB)\n",
            "\u001b[K     |████████████████████████████████| 1.1 MB 4.5 MB/s \n",
            "\u001b[?25hRequirement already satisfied: typeguard>=2.7 in /usr/local/lib/python3.7/dist-packages (from tensorflow_addons) (2.7.1)\n",
            "Requirement already satisfied: packaging in /usr/local/lib/python3.7/dist-packages (from tensorflow_addons) (21.3)\n",
            "Requirement already satisfied: pyparsing!=3.0.5,>=2.0.2 in /usr/local/lib/python3.7/dist-packages (from packaging->tensorflow_addons) (3.0.9)\n",
            "Installing collected packages: tensorflow-addons\n",
            "Successfully installed tensorflow-addons-0.18.0\n"
          ]
        }
      ]
    },
    {
      "cell_type": "code",
      "source": [
        "from keras import models\n",
        "from keras import layers\n",
        "\n",
        "from tensorflow_addons.metrics import RSquare\n",
        "\n",
        "#build our model\n",
        "n_features = X_train.shape[1] # get the number of input values for the input layer\n",
        "\n",
        "model = Sequential(name='boston_housing1')   #initialize the model\n",
        "\n",
        "#add some layers. Dense is a fully connected layer\n",
        "model.add(layers.Dense(64, input_dim= n_features, activation='relu'))\n",
        "model.add(layers.Dense(64, activation='relu'))\n",
        "\n",
        "#Since we are doing a regressions, we only want one value as an ouput, so our last layer has a Dense layer with 1 neuron.\n",
        "model.add(layers.Dense(1)) #default activation function is \"linear\"\n",
        "\n",
        "from sklearn.metrics import r2_score\n",
        "# Compile model\n",
        "model.compile(loss='mean_squared_error',\n",
        "              optimizer='sgd', \n",
        "              metrics= RSquare())\n",
        "model.summary()"
      ],
      "metadata": {
        "colab": {
          "base_uri": "https://localhost:8080/"
        },
        "id": "O3FLvnWWPv68",
        "outputId": "0791d59d-4f7a-4730-9e06-ee816b760cb4"
      },
      "execution_count": null,
      "outputs": [
        {
          "output_type": "stream",
          "name": "stdout",
          "text": [
            "Model: \"boston_housing1\"\n",
            "_________________________________________________________________\n",
            " Layer (type)                Output Shape              Param #   \n",
            "=================================================================\n",
            " dense_21 (Dense)            (None, 64)                896       \n",
            "                                                                 \n",
            " dense_22 (Dense)            (None, 64)                4160      \n",
            "                                                                 \n",
            " dense_23 (Dense)            (None, 1)                 65        \n",
            "                                                                 \n",
            "=================================================================\n",
            "Total params: 5,121\n",
            "Trainable params: 5,121\n",
            "Non-trainable params: 0\n",
            "_________________________________________________________________\n"
          ]
        }
      ]
    },
    {
      "cell_type": "code",
      "source": [
        "# train the model\n",
        "model.fit(X_train_norm, Y_train, epochs=100, batch_size=15, verbose=1)\n",
        "\n",
        "print(\"----\"*30)\n",
        "\n",
        "# cross-validation; make predictions and get error\n",
        "test_mse_score, test_r2_score = model.evaluate(X_test_norm, Y_test)\n",
        "print('MSE:', test_mse_score)\n",
        "print('r2:', test_r2_score)"
      ],
      "metadata": {
        "colab": {
          "base_uri": "https://localhost:8080/"
        },
        "id": "bWl-8_qjSwbv",
        "outputId": "2c7be218-703a-4976-ac57-1bb06b2eede1"
      },
      "execution_count": null,
      "outputs": [
        {
          "output_type": "stream",
          "name": "stdout",
          "text": [
            "Epoch 1/100\n",
            "27/27 [==============================] - 1s 3ms/step - loss: 399.4247 - r_square: -3.7201\n",
            "Epoch 2/100\n",
            "27/27 [==============================] - 0s 3ms/step - loss: 301.9196 - r_square: -2.5678\n",
            "Epoch 3/100\n",
            "27/27 [==============================] - 0s 3ms/step - loss: 147.3654 - r_square: -0.7415\n",
            "Epoch 4/100\n",
            "27/27 [==============================] - 0s 3ms/step - loss: 43.3924 - r_square: 0.4872\n",
            "Epoch 5/100\n",
            "27/27 [==============================] - 0s 3ms/step - loss: 40.0703 - r_square: 0.5265\n",
            "Epoch 6/100\n",
            "27/27 [==============================] - 0s 2ms/step - loss: 33.2976 - r_square: 0.6065\n",
            "Epoch 7/100\n",
            "27/27 [==============================] - 0s 2ms/step - loss: 22.8804 - r_square: 0.7296\n",
            "Epoch 8/100\n",
            "27/27 [==============================] - 0s 2ms/step - loss: 26.2837 - r_square: 0.6894\n",
            "Epoch 9/100\n",
            "27/27 [==============================] - 0s 3ms/step - loss: 32.4395 - r_square: 0.6167\n",
            "Epoch 10/100\n",
            "27/27 [==============================] - 0s 3ms/step - loss: 23.4787 - r_square: 0.7225\n",
            "Epoch 11/100\n",
            "27/27 [==============================] - 0s 3ms/step - loss: 21.0072 - r_square: 0.7518\n",
            "Epoch 12/100\n",
            "27/27 [==============================] - 0s 3ms/step - loss: 32.7904 - r_square: 0.6125\n",
            "Epoch 13/100\n",
            "27/27 [==============================] - 0s 3ms/step - loss: 27.6367 - r_square: 0.6734\n",
            "Epoch 14/100\n",
            "27/27 [==============================] - 0s 2ms/step - loss: 22.7346 - r_square: 0.7313\n",
            "Epoch 15/100\n",
            "27/27 [==============================] - 0s 3ms/step - loss: 20.1616 - r_square: 0.7617\n",
            "Epoch 16/100\n",
            "27/27 [==============================] - 0s 3ms/step - loss: 19.0338 - r_square: 0.7751\n",
            "Epoch 17/100\n",
            "27/27 [==============================] - 0s 3ms/step - loss: 19.5103 - r_square: 0.7694\n",
            "Epoch 18/100\n",
            "27/27 [==============================] - 0s 2ms/step - loss: 20.2234 - r_square: 0.7610\n",
            "Epoch 19/100\n",
            "27/27 [==============================] - 0s 3ms/step - loss: 17.3092 - r_square: 0.7955\n",
            "Epoch 20/100\n",
            "27/27 [==============================] - 0s 3ms/step - loss: 18.1661 - r_square: 0.7853\n",
            "Epoch 21/100\n",
            "27/27 [==============================] - 0s 4ms/step - loss: 19.3582 - r_square: 0.7712\n",
            "Epoch 22/100\n",
            "27/27 [==============================] - 0s 3ms/step - loss: 17.9151 - r_square: 0.7883\n",
            "Epoch 23/100\n",
            "27/27 [==============================] - 0s 2ms/step - loss: 17.5446 - r_square: 0.7927\n",
            "Epoch 24/100\n",
            "27/27 [==============================] - 0s 2ms/step - loss: 18.7854 - r_square: 0.7780\n",
            "Epoch 25/100\n",
            "27/27 [==============================] - 0s 3ms/step - loss: 16.3093 - r_square: 0.8073\n",
            "Epoch 26/100\n",
            "27/27 [==============================] - 0s 3ms/step - loss: 17.0921 - r_square: 0.7980\n",
            "Epoch 27/100\n",
            "27/27 [==============================] - 0s 3ms/step - loss: 16.7608 - r_square: 0.8019\n",
            "Epoch 28/100\n",
            "27/27 [==============================] - 0s 2ms/step - loss: 16.1953 - r_square: 0.8086\n",
            "Epoch 29/100\n",
            "27/27 [==============================] - 0s 3ms/step - loss: 16.3598 - r_square: 0.8067\n",
            "Epoch 30/100\n",
            "27/27 [==============================] - 0s 3ms/step - loss: 19.2974 - r_square: 0.7720\n",
            "Epoch 31/100\n",
            "27/27 [==============================] - 0s 2ms/step - loss: 17.3140 - r_square: 0.7954\n",
            "Epoch 32/100\n",
            "27/27 [==============================] - 0s 2ms/step - loss: 20.6598 - r_square: 0.7559\n",
            "Epoch 33/100\n",
            "27/27 [==============================] - 0s 3ms/step - loss: 17.8755 - r_square: 0.7888\n",
            "Epoch 34/100\n",
            "27/27 [==============================] - 0s 3ms/step - loss: 18.1267 - r_square: 0.7858\n",
            "Epoch 35/100\n",
            "27/27 [==============================] - 0s 3ms/step - loss: 17.4427 - r_square: 0.7939\n",
            "Epoch 36/100\n",
            "27/27 [==============================] - 0s 3ms/step - loss: 16.5863 - r_square: 0.8040\n",
            "Epoch 37/100\n",
            "27/27 [==============================] - 0s 3ms/step - loss: 17.5554 - r_square: 0.7925\n",
            "Epoch 38/100\n",
            "27/27 [==============================] - 0s 3ms/step - loss: 16.4898 - r_square: 0.8051\n",
            "Epoch 39/100\n",
            "27/27 [==============================] - 0s 3ms/step - loss: 16.2169 - r_square: 0.8084\n",
            "Epoch 40/100\n",
            "27/27 [==============================] - 0s 3ms/step - loss: 15.4467 - r_square: 0.8175\n",
            "Epoch 41/100\n",
            "27/27 [==============================] - 0s 3ms/step - loss: 15.6852 - r_square: 0.8146\n",
            "Epoch 42/100\n",
            "27/27 [==============================] - 0s 2ms/step - loss: 17.3854 - r_square: 0.7946\n",
            "Epoch 43/100\n",
            "27/27 [==============================] - 0s 3ms/step - loss: 16.3455 - r_square: 0.8068\n",
            "Epoch 44/100\n",
            "27/27 [==============================] - 0s 3ms/step - loss: 31.3216 - r_square: 0.6299\n",
            "Epoch 45/100\n",
            "27/27 [==============================] - 0s 3ms/step - loss: 17.3696 - r_square: 0.7947\n",
            "Epoch 46/100\n",
            "27/27 [==============================] - 0s 3ms/step - loss: 16.3991 - r_square: 0.8062\n",
            "Epoch 47/100\n",
            "27/27 [==============================] - 0s 4ms/step - loss: 15.9305 - r_square: 0.8117\n",
            "Epoch 48/100\n",
            "27/27 [==============================] - 0s 2ms/step - loss: 16.3124 - r_square: 0.8072\n",
            "Epoch 49/100\n",
            "27/27 [==============================] - 0s 3ms/step - loss: 19.0181 - r_square: 0.7753\n",
            "Epoch 50/100\n",
            "27/27 [==============================] - 0s 3ms/step - loss: 16.5252 - r_square: 0.8047\n",
            "Epoch 51/100\n",
            "27/27 [==============================] - 0s 3ms/step - loss: 16.3097 - r_square: 0.8073\n",
            "Epoch 52/100\n",
            "27/27 [==============================] - 0s 4ms/step - loss: 16.9481 - r_square: 0.7997\n",
            "Epoch 53/100\n",
            "27/27 [==============================] - 0s 3ms/step - loss: 15.3458 - r_square: 0.8187\n",
            "Epoch 54/100\n",
            "27/27 [==============================] - 0s 3ms/step - loss: 16.5094 - r_square: 0.8049\n",
            "Epoch 55/100\n",
            "27/27 [==============================] - 0s 3ms/step - loss: 16.0358 - r_square: 0.8105\n",
            "Epoch 56/100\n",
            "27/27 [==============================] - 0s 3ms/step - loss: 27.2382 - r_square: 0.6781\n",
            "Epoch 57/100\n",
            "27/27 [==============================] - 0s 3ms/step - loss: 22.3019 - r_square: 0.7365\n",
            "Epoch 58/100\n",
            "27/27 [==============================] - 0s 2ms/step - loss: 15.9077 - r_square: 0.8120\n",
            "Epoch 59/100\n",
            "27/27 [==============================] - 0s 3ms/step - loss: 16.6456 - r_square: 0.8033\n",
            "Epoch 60/100\n",
            "27/27 [==============================] - 0s 2ms/step - loss: 16.8834 - r_square: 0.8005\n",
            "Epoch 61/100\n",
            "27/27 [==============================] - 0s 2ms/step - loss: 15.4410 - r_square: 0.8175\n",
            "Epoch 62/100\n",
            "27/27 [==============================] - 0s 3ms/step - loss: 15.6145 - r_square: 0.8155\n",
            "Epoch 63/100\n",
            "27/27 [==============================] - 0s 3ms/step - loss: 14.9975 - r_square: 0.8228\n",
            "Epoch 64/100\n",
            "27/27 [==============================] - 0s 4ms/step - loss: 15.6996 - r_square: 0.8145\n",
            "Epoch 65/100\n",
            "27/27 [==============================] - 0s 3ms/step - loss: 14.7741 - r_square: 0.8254\n",
            "Epoch 66/100\n",
            "27/27 [==============================] - 0s 3ms/step - loss: 19.2183 - r_square: 0.7729\n",
            "Epoch 67/100\n",
            "27/27 [==============================] - 0s 3ms/step - loss: 15.9862 - r_square: 0.8111\n",
            "Epoch 68/100\n",
            "27/27 [==============================] - 0s 3ms/step - loss: 15.4171 - r_square: 0.8178\n",
            "Epoch 69/100\n",
            "27/27 [==============================] - 0s 2ms/step - loss: 15.1914 - r_square: 0.8205\n",
            "Epoch 70/100\n",
            "27/27 [==============================] - 0s 3ms/step - loss: 15.0834 - r_square: 0.8218\n",
            "Epoch 71/100\n",
            "27/27 [==============================] - 0s 2ms/step - loss: 15.0234 - r_square: 0.8225\n",
            "Epoch 72/100\n",
            "27/27 [==============================] - 0s 3ms/step - loss: 15.3837 - r_square: 0.8182\n",
            "Epoch 73/100\n",
            "27/27 [==============================] - 0s 2ms/step - loss: 52.6410 - r_square: 0.3779\n",
            "Epoch 74/100\n",
            "27/27 [==============================] - 0s 3ms/step - loss: 64.8888 - r_square: 0.2332\n",
            "Epoch 75/100\n",
            "27/27 [==============================] - 0s 3ms/step - loss: 22.9103 - r_square: 0.7293\n",
            "Epoch 76/100\n",
            "27/27 [==============================] - 0s 3ms/step - loss: 22.8343 - r_square: 0.7302\n",
            "Epoch 77/100\n",
            "27/27 [==============================] - 0s 3ms/step - loss: 18.7313 - r_square: 0.7786\n",
            "Epoch 78/100\n",
            "27/27 [==============================] - 0s 3ms/step - loss: 21.2458 - r_square: 0.7489\n",
            "Epoch 79/100\n",
            "27/27 [==============================] - 0s 3ms/step - loss: 19.9761 - r_square: 0.7639\n",
            "Epoch 80/100\n",
            "27/27 [==============================] - 0s 3ms/step - loss: 15.5261 - r_square: 0.8165\n",
            "Epoch 81/100\n",
            "27/27 [==============================] - 0s 2ms/step - loss: 13.1631 - r_square: 0.8444\n",
            "Epoch 82/100\n",
            "27/27 [==============================] - 0s 3ms/step - loss: 13.7601 - r_square: 0.8374\n",
            "Epoch 83/100\n",
            "27/27 [==============================] - 0s 3ms/step - loss: 12.9642 - r_square: 0.8468\n",
            "Epoch 84/100\n",
            "27/27 [==============================] - 0s 4ms/step - loss: 12.0609 - r_square: 0.8575\n",
            "Epoch 85/100\n",
            "27/27 [==============================] - 0s 3ms/step - loss: 12.7821 - r_square: 0.8490\n",
            "Epoch 86/100\n",
            "27/27 [==============================] - 0s 3ms/step - loss: 14.1895 - r_square: 0.8323\n",
            "Epoch 87/100\n",
            "27/27 [==============================] - 0s 3ms/step - loss: 17.0464 - r_square: 0.7986\n",
            "Epoch 88/100\n",
            "27/27 [==============================] - 0s 3ms/step - loss: 13.3044 - r_square: 0.8428\n",
            "Epoch 89/100\n",
            "27/27 [==============================] - 0s 3ms/step - loss: 15.6102 - r_square: 0.8155\n",
            "Epoch 90/100\n",
            "27/27 [==============================] - 0s 3ms/step - loss: 12.6260 - r_square: 0.8508\n",
            "Epoch 91/100\n",
            "27/27 [==============================] - 0s 3ms/step - loss: 11.5378 - r_square: 0.8637\n",
            "Epoch 92/100\n",
            "27/27 [==============================] - 0s 3ms/step - loss: 11.5352 - r_square: 0.8637\n",
            "Epoch 93/100\n",
            "27/27 [==============================] - 0s 3ms/step - loss: 11.9805 - r_square: 0.8584\n",
            "Epoch 94/100\n",
            "27/27 [==============================] - 0s 3ms/step - loss: 11.7960 - r_square: 0.8606\n",
            "Epoch 95/100\n",
            "27/27 [==============================] - 0s 3ms/step - loss: 12.1414 - r_square: 0.8565\n",
            "Epoch 96/100\n",
            "27/27 [==============================] - 0s 3ms/step - loss: 12.0400 - r_square: 0.8577\n",
            "Epoch 97/100\n",
            "27/27 [==============================] - 0s 3ms/step - loss: 11.0865 - r_square: 0.8690\n",
            "Epoch 98/100\n",
            "27/27 [==============================] - 0s 4ms/step - loss: 11.4056 - r_square: 0.8652\n",
            "Epoch 99/100\n",
            "27/27 [==============================] - 0s 2ms/step - loss: 10.9380 - r_square: 0.8707\n",
            "Epoch 100/100\n",
            "27/27 [==============================] - 0s 2ms/step - loss: 10.9272 - r_square: 0.8709\n",
            "4/4 [==============================] - 0s 5ms/step - loss: 21.7684 - r_square: 0.7385\n",
            "MSE: 21.768402099609375\n",
            "r2: 0.7384982109069824\n"
          ]
        }
      ]
    },
    {
      "cell_type": "markdown",
      "metadata": {
        "id": "R7WVqBhjfwGW"
      },
      "source": [
        "# In Class Exercise #2\n",
        "What parameters from the models above do you think you can/should change? \n",
        "\n",
        "\n",
        "Try these\n",
        "- Change the number of neruons in each layer.  \n",
        "- Add a layer to the model.\n",
        "- Change the activation function of the model, [here is the documentation](https://keras.io/api/layers/activations/)\n",
        "- Change the optimizer, [here is the documentation](https://keras.io/api/optimizers/) with a list of options\n",
        "- look at the [metrics](https://keras.io/api/metrics/) try adding another metric.\n"
      ]
    }
  ]
}