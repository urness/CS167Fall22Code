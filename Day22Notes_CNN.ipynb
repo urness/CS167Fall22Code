{
  "nbformat": 4,
  "nbformat_minor": 0,
  "metadata": {
    "colab": {
      "provenance": [],
      "include_colab_link": true
    },
    "kernelspec": {
      "display_name": "Python 3",
      "name": "python3"
    },
    "language_info": {
      "name": "python"
    },
    "gpuClass": "standard"
  },
  "cells": [
    {
      "cell_type": "markdown",
      "metadata": {
        "id": "view-in-github",
        "colab_type": "text"
      },
      "source": [
        "<a href=\"https://colab.research.google.com/github/urness/CS167Fall22Code/blob/main/Day22Notes_CNN.ipynb\" target=\"_parent\"><img src=\"https://colab.research.google.com/assets/colab-badge.svg\" alt=\"Open In Colab\"/></a>"
      ]
    },
    {
      "cell_type": "markdown",
      "metadata": {
        "id": "Qm_xk4jzShLQ"
      },
      "source": [
        "# Day 22 Notes\n",
        "### Convolutional Neural Network Code \n",
        "We'll get some practice using tensorflow and keras "
      ]
    },
    {
      "cell_type": "code",
      "metadata": {
        "id": "I-49rU2ebgWi"
      },
      "source": [
        "from google.colab import drive\n",
        "import pandas\n",
        "drive.mount('/content/drive')"
      ],
      "execution_count": null,
      "outputs": []
    },
    {
      "cell_type": "markdown",
      "metadata": {
        "id": "VvyRvtbiZR9C"
      },
      "source": [
        "## Enable GPUs\n",
        "Go to 'Edit' and then 'Notebook Settings'. In the 'Hardware Accelerator' dropdown menu, select 'GPU'. This means that Colab will run on a GPU from Google rather than a CPU which will accelerate our training."
      ]
    },
    {
      "cell_type": "code",
      "metadata": {
        "id": "V99rr32GZROh"
      },
      "source": [
        "%tensorflow_version 2.x\n",
        "import tensorflow as tf\n",
        "device_name = tf.test.gpu_device_name()\n",
        "if device_name != '/device:GPU:0':\n",
        "  raise SystemError('GPU device not found')\n",
        "print('Found GPU at: {}'.format(device_name))"
      ],
      "execution_count": null,
      "outputs": []
    },
    {
      "cell_type": "code",
      "metadata": {
        "id": "yHEh6Jp_aqI-"
      },
      "source": [
        "import keras\n",
        "import tensorflow\n",
        "print (\"TensorFlow version: \" + tf.__version__)\n",
        "print (\"Keras version: \" + keras.__version__)"
      ],
      "execution_count": null,
      "outputs": []
    },
    {
      "cell_type": "code",
      "metadata": {
        "id": "1mRtAHaMavg5"
      },
      "source": [
        "#ignore warnings\n",
        "import warnings\n",
        "warnings.filterwarnings('ignore')"
      ],
      "execution_count": 15,
      "outputs": []
    },
    {
      "cell_type": "code",
      "metadata": {
        "id": "uEOuptyDazCz"
      },
      "source": [
        "# baseline model for the dogs vs cats dataset\n",
        "import keras\n",
        "import sys\n",
        "from matplotlib import pyplot\n",
        "from keras.models import Sequential\n",
        "from keras.layers import Conv2D\n",
        "from keras.layers import MaxPooling2D\n",
        "from keras.layers import Dense\n",
        "from keras.layers import Flatten\n",
        "from keras.preprocessing.image import ImageDataGenerator\n",
        "import sys"
      ],
      "execution_count": 18,
      "outputs": []
    },
    {
      "cell_type": "code",
      "metadata": {
        "id": "bBu1WH6ya26f"
      },
      "source": [
        "# dimensions of our images.\n",
        "img_width = 200\n",
        "img_height = 200\n",
        "\n",
        "#the directories where our train and test data is\n",
        "train_data_dir = '/content/drive/MyDrive/CS167Fall22/Datasets/catdogdata/train' #2000 images\n",
        "test_data_dir = '/content/drive/MyDrive/CS167Fall22/Datasets/catdogdata/test'   #400 images\n",
        "\n",
        "#we will feed the training images to the neural network\n",
        "#in batches of 32 images at a time so we don't have \n",
        "#to load the entire data set into memory\n",
        "batch_size = 32\n"
      ],
      "execution_count": 19,
      "outputs": []
    },
    {
      "cell_type": "markdown",
      "metadata": {
        "id": "M9UN16kdRWZN"
      },
      "source": [
        "# Load the data\n",
        "If you get a 'File not found' error here and you're sure your path is correct, make sure you unzipped the catdog.zip file. \n",
        "\n",
        "You may need to use a plugin if you want to unzip on Drive. Instead you can download it to your local machine, unzip it on your local machine and then upload to Drive. Uploading/upzipping on Drive may take a while (Mine took about 20 minutes). "
      ]
    },
    {
      "cell_type": "code",
      "metadata": {
        "id": "T9XD_GSrbJhO"
      },
      "source": [
        "# used to rescale the pixel values from [0, 255] to between 0 and 1\n",
        "datagen = ImageDataGenerator(rescale=1.0/255.0)\n",
        "\n",
        "#These will look for our training and testing data\n",
        "#in their respective directory, and it will figure out\n",
        "#the class of each example based on the subfolder it is in\n",
        "train_data = datagen.flow_from_directory(\n",
        "        train_data_dir,\n",
        "        target_size=(img_width, img_height),\n",
        "        batch_size=batch_size,\n",
        "        class_mode='binary')\n",
        "\n",
        "test_data = datagen.flow_from_directory(\n",
        "        test_data_dir,\n",
        "        target_size=(img_width, img_height),\n",
        "        batch_size=batch_size,\n",
        "        class_mode='binary')"
      ],
      "execution_count": null,
      "outputs": []
    },
    {
      "cell_type": "code",
      "metadata": {
        "id": "egPbx_xSQyTo"
      },
      "source": [
        "#setting up a sequential model with 3 convolutional layers, each with 32 feature maps\n",
        "#from regions that are 3x3 in the image\n",
        "model = Sequential()\n",
        "model.add(Conv2D(32, (3, 3), activation = 'relu', input_shape=(img_width, img_height, 3)))\n",
        "model.add(Conv2D(32, (3, 3), activation = 'relu'))\n",
        "model.add(Conv2D(32, (3, 3), activation = 'relu'))\n",
        "model.add(Flatten()) #flatten the convolutional layer so it can go into a fully-connected layer\n",
        "model.add(Dense(32)) #fully-connected layer\n",
        "model.add(Dense(1,activation='sigmoid'))\n",
        "\n",
        "# need to compile the model before you can use it\n",
        "model.compile(optimizer=\"sgd\", loss='binary_crossentropy', metrics=['accuracy'])"
      ],
      "execution_count": 28,
      "outputs": []
    },
    {
      "cell_type": "code",
      "metadata": {
        "id": "hMiBVry2R8dl"
      },
      "source": [
        "#This will actually train the model.\n",
        "#You will want to change the epochs to something small enough to run on your computer.\n",
        "#Maybe 3 to 10 if you do not have a GPU doing the work.\n",
        "training_results = model.fit_generator(\n",
        "        train_data, #training set\n",
        "        steps_per_epoch = len(train_data), \n",
        "        epochs=5, #number of epochs \n",
        "        validation_data = test_data, #testing set\n",
        "        validation_steps = len(test_data)\n",
        "        )"
      ],
      "execution_count": null,
      "outputs": []
    },
    {
      "cell_type": "code",
      "metadata": {
        "id": "ztuazstBSAUg"
      },
      "source": [
        "import matplotlib.pyplot as plt\n",
        "%matplotlib inline\n",
        "plt.plot(training_results.history['accuracy'])\n",
        "plt.plot(training_results.history['val_accuracy'])\n",
        "plt.title('model accuracy')\n",
        "plt.ylabel('accuracy')\n",
        "plt.xlabel('epoch')\n",
        "plt.legend(['train', 'test'], loc='upper left')\n",
        "plt.show()"
      ],
      "execution_count": null,
      "outputs": []
    },
    {
      "cell_type": "code",
      "metadata": {
        "id": "bNq4sibZSBM8"
      },
      "source": [
        "\n",
        "#We'll try a second model, this time with pooling layers after each convolutional layer\n",
        "model2 = Sequential()\n",
        "model2.add(Conv2D(32, (3, 3), activation = 'relu', input_shape=(img_width, img_height, 3)))\n",
        "model2.add(MaxPooling2D(pool_size=(2, 2)))\n",
        "\n",
        "model2.add(Conv2D(32, (3, 3),activation = 'relu'))\n",
        "model2.add(MaxPooling2D(pool_size=(2, 2)))\n",
        "\n",
        "model2.add(Conv2D(64, (3, 3),activation = 'relu'))\n",
        "model2.add(MaxPooling2D(pool_size=(2, 2)))\n",
        "\n",
        "model2.add(Flatten())\n",
        "model2.add(Dense(64,activation = 'relu'))\n",
        "model2.add(Dense(1,activation='sigmoid'))\n",
        "\n",
        "# need to compile the model before you can use it\n",
        "model2.compile(optimizer=\"sgd\", loss='binary_crossentropy', metrics=['accuracy'])"
      ],
      "execution_count": 31,
      "outputs": []
    },
    {
      "cell_type": "code",
      "metadata": {
        "id": "WB-ayuFASDuK"
      },
      "source": [
        "#This will actually train the model.\n",
        "#You will want to change the epochs to something small enough to run on your computer.\n",
        "#Maybe 3 to 10 if you do not have a GPU doing the work.\n",
        "training_results2 = model2.fit_generator(\n",
        "        train_data, #training set\n",
        "        steps_per_epoch = len(train_data), \n",
        "        epochs=10, #number of epochs \n",
        "        validation_data = test_data, #testing set\n",
        "        validation_steps = len(test_data)\n",
        "        )"
      ],
      "execution_count": null,
      "outputs": []
    },
    {
      "cell_type": "code",
      "metadata": {
        "id": "3BRZM8UBSGOo"
      },
      "source": [
        "import matplotlib.pyplot as plt\n",
        "%matplotlib inline\n",
        "plt.plot(training_results2.history['accuracy'])\n",
        "plt.plot(training_results2.history['val_accuracy'])\n",
        "plt.title('model accuracy')\n",
        "plt.ylabel('accuracy')\n",
        "plt.xlabel('epoch')\n",
        "plt.legend(['train', 'test'], loc='upper left')\n",
        "plt.show()"
      ],
      "execution_count": null,
      "outputs": []
    },
    {
      "cell_type": "markdown",
      "metadata": {
        "id": "UeHAyTm5uezi"
      },
      "source": [
        "# Now, try your own image:\n"
      ]
    },
    {
      "cell_type": "code",
      "metadata": {
        "colab": {
          "base_uri": "https://localhost:8080/",
          "height": 217
        },
        "id": "FCQ1eiCkvXC2",
        "outputId": "65b9478f-bc4c-4847-b067-be16ec2dfb74"
      },
      "source": [
        "from IPython.display import Image\n",
        "display(Image('/content/drive/MyDrive/CS167Fall22/Datasets/doggo.jpg'))"
      ],
      "execution_count": 35,
      "outputs": [
        {
          "output_type": "display_data",
          "data": {
            "image/jpeg": "[encoded data removed]",
            "text/plain": [
              "<IPython.core.display.Image object>"
            ]
          },
          "metadata": {}
        }
      ]
    },
    {
      "cell_type": "code",
      "metadata": {
        "id": "F3XMBtN6SJlq"
      },
      "source": [
        "#try your own image..\n",
        "\n",
        "from keras.utils import load_img\n",
        "from keras.utils import img_to_array\n",
        "img = load_img(\"/content/drive/MyDrive/CS167Fall22/Datasets/doggo.jpg\", target_size=(200, 200))\n",
        "#img = load_img(\"cat_pic.jpeg\", target_size=(200, 200))\n",
        "\n",
        "# convert to array\n",
        "img = img_to_array(img)\n",
        "# reshape into a single sample with 3 channels\n",
        "\n",
        "img = img.reshape(1, 200, 200, 3)\n",
        "img = img.astype('float32')\n",
        "#convert image from [0,255] to [0,1]\n",
        "img = datagen.standardize(img)\n",
        "\n",
        "# predict the class  # 0 is cat; 1 is dog\n",
        "result = model2.predict(img)\n",
        "print(result)"
      ],
      "execution_count": null,
      "outputs": []
    }
  ]
}